{
 "cells": [
  {
   "cell_type": "code",
   "execution_count": null,
   "id": "f031f9ce-732f-4ef3-8990-f822998f78a4",
   "metadata": {},
   "outputs": [],
   "source": [
    "import cv2\n",
    "import matplotlib.pyplot as plt\n",
    "import numpy as np"
   ]
  },
  {
   "cell_type": "code",
   "execution_count": null,
   "id": "7f027c1d-c21d-4e66-b0da-b89334d896ab",
   "metadata": {},
   "outputs": [],
   "source": [
    "img = cv2.imread('D:\\praktikum_adinda\\praktikum 5\\colorwheel.jpeg')\n",
    "if not img is None:\n",
    "    # Konversi ke HSV\n",
    "    hsv = cv2.cvtColor(img, cv2.COLOR_BGR2HSV)\n",
    "    \n",
    "    batasRendah = np.array([100, 20, 20])\n",
    "    batasAtas = np.array([140, 255, 255])\n",
    "    \n",
    "    # Peroleh bagian yang berwarna biru\n",
    "    getBiru = cv2.inRange(hsv, batasRendah, batasAtas)\n",
    "    \n",
    "    # Kenakan operasi and terhadap citra asli\n",
    "    hasil = cv2.bitwise_and(img, img, mask = getBiru)\n",
    "    \n",
    "    cv2.imshow('Citra asli', img)\n",
    "    cv2.imshow('MAsking', getBiru)\n",
    "               \n",
    "    cv2.imshow('Citra hasil', hasil)\n",
    "    cv2.waitKey()\n",
    "    cv2.destroyAllWindows()\n",
    "else:\n",
    "    print(\"Citra tidak ditemukan !\")"
   ]
  },
  {
   "cell_type": "code",
   "execution_count": null,
   "id": "2217145b-b04e-4e71-bac6-94cdf50433db",
   "metadata": {},
   "outputs": [],
   "source": [
    "img = cv2.imread('D:\\praktikum_adinda\\praktikum 5\\colorwheel.jpeg')\n",
    "if not img is None:\n",
    "    # Konversi ke HSV\n",
    "    hsv = cv2.cvtColor(img, cv2.COLOR_BGR2HSV)\n",
    "    \n",
    "    batasRendahA = np.array([159, 20, 20])\n",
    "    batasAtasA = np.array([179, 255, 255])\n",
    "    \n",
    "    batasRendahB = np.array([0, 20, 20])\n",
    "    batasAtasB = np.array([20, 255, 255])\n",
    "    \n",
    "    # Peroleh bagian yang berwarna merah\n",
    "    maskA = cv2.inRange(hsv, batasRendahA, batasAtasA)\n",
    "    maskB = cv2.inRange(hsv, batasRendahB, batasAtasB)\n",
    "    masking = maskA | maskB\n",
    "    \n",
    "    # Kenakan operasi and terhadap citra asli\n",
    "    hasil = cv2.bitwise_and(img, img, mask = masking)\n",
    "    \n",
    "    cv2.imshow('Citra asli', img)\n",
    "    cv2.imshow('Masking Matriks', masking)\n",
    "    cv2.imshow('Citra hasil', hasil)\n",
    "    \n",
    "    cv2.waitKey(0)\n",
    "    cv2.destroyAllWindows()\n",
    "else:\n",
    "    print(\"Citra tidak ditemukan !\")"
   ]
  }
 ],
 "metadata": {
  "kernelspec": {
   "display_name": "Python 3 (ipykernel)",
   "language": "python",
   "name": "python3"
  },
  "language_info": {
   "codemirror_mode": {
    "name": "ipython",
    "version": 3
   },
   "file_extension": ".py",
   "mimetype": "text/x-python",
   "name": "python",
   "nbconvert_exporter": "python",
   "pygments_lexer": "ipython3",
   "version": "3.9.16"
  }
 },
 "nbformat": 4,
 "nbformat_minor": 5
}
