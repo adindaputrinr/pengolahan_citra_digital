{
 "cells": [
  {
   "cell_type": "code",
   "execution_count": 3,
   "id": "a16ff418-c362-4e79-9063-9c06ed20e7c0",
   "metadata": {},
   "outputs": [
    {
     "name": "stdout",
     "output_type": "stream",
     "text": [
      "False\n",
      "30\n",
      "366\n"
     ]
    }
   ],
   "source": [
    "def isYearLeap(year): \n",
    "    if year % 4 != 0:\n",
    "        return False\n",
    "    elif year % 100 != 0:\n",
    "        return True\n",
    "    elif year % 400 != 0:\n",
    "        return False\n",
    "    else:\n",
    "        return True\n",
    "\n",
    "\n",
    "def daysInMonth(year, month): \n",
    "    if year < 1 or month < 1 or month > 12:\n",
    "        return None\n",
    "    days = [31, 28, 31, 30, 31, 30, 31, 31, 30, 31, 30, 31]\n",
    "    res  = days[month - 1]\n",
    "    if month == 2 and isYearLeap(year):\n",
    "        res = 29\n",
    "    return res\n",
    "\n",
    "\n",
    "def dayOfYear(year, month, day): \n",
    "    days = 0\n",
    "    for m in range(1, month):\n",
    "        md = daysInMonth(year, m)\n",
    "        if md == None:\n",
    "            return None\n",
    "        days += md\n",
    "    md = daysInMonth(year, month)\n",
    "    if day >= 1 and day <= md:\n",
    "        return days + day\n",
    "    else:\n",
    "        return None\n",
    "\n",
    "print(isYearLeap(1900))\n",
    "print(daysInMonth(2021, 11))\n",
    "print(dayOfYear(2000, 12, 31))"
   ]
  },
  {
   "cell_type": "code",
   "execution_count": null,
   "id": "9db7d037-272e-4833-ba4d-5b8650ce241e",
   "metadata": {},
   "outputs": [],
   "source": []
  }
 ],
 "metadata": {
  "kernelspec": {
   "display_name": "Python 3 (ipykernel)",
   "language": "python",
   "name": "python3"
  },
  "language_info": {
   "codemirror_mode": {
    "name": "ipython",
    "version": 3
   },
   "file_extension": ".py",
   "mimetype": "text/x-python",
   "name": "python",
   "nbconvert_exporter": "python",
   "pygments_lexer": "ipython3",
   "version": "3.9.16"
  }
 },
 "nbformat": 4,
 "nbformat_minor": 5
}
