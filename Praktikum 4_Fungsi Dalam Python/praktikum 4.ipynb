{
 "cells": [
  {
   "cell_type": "code",
   "execution_count": 1,
   "id": "086acd31-d096-4b3e-b091-11487ebf984b",
   "metadata": {},
   "outputs": [],
   "source": [
    "def message():\n",
    "    \"\"\"message function untuk menuliskan pesan\"\"\"\n",
    "    print(\"Please, Enter a value: \")\n",
    "    a = 100\n",
    "    print(a)"
   ]
  },
  {
   "cell_type": "code",
   "execution_count": 2,
   "id": "8e0b3542-284f-4c70-aaed-7166844fd0b4",
   "metadata": {},
   "outputs": [
    {
     "name": "stdout",
     "output_type": "stream",
     "text": [
      "Please, Enter a value: \n",
      "100\n"
     ]
    }
   ],
   "source": [
    "message()"
   ]
  },
  {
   "cell_type": "code",
   "execution_count": 3,
   "id": "8a5968e3-b30a-4584-8986-455198eec1a3",
   "metadata": {},
   "outputs": [
    {
     "name": "stdout",
     "output_type": "stream",
     "text": [
      "Please, Enter a value: \n",
      "100\n",
      "None\n"
     ]
    }
   ],
   "source": [
    "users = message()\n",
    "print(users)"
   ]
  },
  {
   "cell_type": "code",
   "execution_count": 4,
   "id": "345ee636-3644-4db4-8409-b6d0c2d42a7d",
   "metadata": {},
   "outputs": [
    {
     "data": {
      "text/plain": [
       "'message function untuk menuliskan pesan'"
      ]
     },
     "execution_count": 4,
     "metadata": {},
     "output_type": "execute_result"
    }
   ],
   "source": [
    "message.__doc__"
   ]
  },
  {
   "cell_type": "code",
   "execution_count": 5,
   "id": "533ea0ce-e03d-4f74-b6e1-caeb95356dd3",
   "metadata": {},
   "outputs": [],
   "source": [
    "# variabel global\n",
    "a = 1\n",
    "b = 11\n",
    "\n",
    "def print_var():\n",
    "    \"\"\"this function will print a variable\"\"\"\n",
    "    \n",
    "    a = 2\n",
    "    b = b + 4\n",
    "    c = b\n",
    "    \n",
    "    print(f'[inside functional] local variable a: {a}')\n",
    "    print(f'[inside functional] local variable b: {b}')\n",
    "    print(c)"
   ]
  },
  {
   "cell_type": "code",
   "execution_count": 6,
   "id": "67ed8426-8bc3-4c28-b452-42c9521a85cf",
   "metadata": {},
   "outputs": [
    {
     "ename": "UnboundLocalError",
     "evalue": "local variable 'b' referenced before assignment",
     "output_type": "error",
     "traceback": [
      "\u001b[1;31m---------------------------------------------------------------------------\u001b[0m",
      "\u001b[1;31mUnboundLocalError\u001b[0m                         Traceback (most recent call last)",
      "\u001b[1;32m~\\AppData\\Local\\Temp\\ipykernel_14816\\3225931511.py\u001b[0m in \u001b[0;36m<module>\u001b[1;34m\u001b[0m\n\u001b[1;32m----> 1\u001b[1;33m \u001b[0mprint_var\u001b[0m\u001b[1;33m(\u001b[0m\u001b[1;33m)\u001b[0m\u001b[1;33m\u001b[0m\u001b[1;33m\u001b[0m\u001b[0m\n\u001b[0m",
      "\u001b[1;32m~\\AppData\\Local\\Temp\\ipykernel_14816\\2865606819.py\u001b[0m in \u001b[0;36mprint_var\u001b[1;34m()\u001b[0m\n\u001b[0;32m      7\u001b[0m \u001b[1;33m\u001b[0m\u001b[0m\n\u001b[0;32m      8\u001b[0m     \u001b[0ma\u001b[0m \u001b[1;33m=\u001b[0m \u001b[1;36m2\u001b[0m\u001b[1;33m\u001b[0m\u001b[1;33m\u001b[0m\u001b[0m\n\u001b[1;32m----> 9\u001b[1;33m     \u001b[0mb\u001b[0m \u001b[1;33m=\u001b[0m \u001b[0mb\u001b[0m \u001b[1;33m+\u001b[0m \u001b[1;36m4\u001b[0m\u001b[1;33m\u001b[0m\u001b[1;33m\u001b[0m\u001b[0m\n\u001b[0m\u001b[0;32m     10\u001b[0m     \u001b[0mc\u001b[0m \u001b[1;33m=\u001b[0m \u001b[0mb\u001b[0m\u001b[1;33m\u001b[0m\u001b[1;33m\u001b[0m\u001b[0m\n\u001b[0;32m     11\u001b[0m \u001b[1;33m\u001b[0m\u001b[0m\n",
      "\u001b[1;31mUnboundLocalError\u001b[0m: local variable 'b' referenced before assignment"
     ]
    }
   ],
   "source": [
    "print_var()"
   ]
  },
  {
   "cell_type": "code",
   "execution_count": 7,
   "id": "97e2b797-bbdc-4665-b2a3-abaf277f7a56",
   "metadata": {},
   "outputs": [],
   "source": [
    "# variable global\n",
    "a = 1\n",
    "b = 11\n",
    "\n",
    "def print_var():\n",
    "    \"\"\"fungsi ini menampilkan variable\"\"\"\n",
    "    \n",
    "    a = 2\n",
    "    # b = b + 4\n",
    "    c = b\n",
    "    \n",
    "    print(f'[inside functional local variable a: {a}')\n",
    "    print(f'[inside functional local variable b: {b}')\n",
    "    print(c)"
   ]
  },
  {
   "cell_type": "code",
   "execution_count": 8,
   "id": "2623c763-65d3-42f1-9201-2568cdb8c221",
   "metadata": {},
   "outputs": [
    {
     "name": "stdout",
     "output_type": "stream",
     "text": [
      "[inside functional local variable a: 2\n",
      "[inside functional local variable b: 11\n",
      "11\n"
     ]
    }
   ],
   "source": [
    "print_var()"
   ]
  },
  {
   "cell_type": "code",
   "execution_count": 9,
   "id": "8f4c6aad-95cb-4ce1-88b1-12a691a5f7f3",
   "metadata": {},
   "outputs": [
    {
     "name": "stdout",
     "output_type": "stream",
     "text": [
      "global variable a: 1\n",
      "11\n"
     ]
    }
   ],
   "source": [
    "print(f'global variable a: {a}')\n",
    "print(b)"
   ]
  },
  {
   "cell_type": "code",
   "execution_count": 10,
   "id": "de6deb9b-184e-4d69-9131-ac0d6f9164e8",
   "metadata": {},
   "outputs": [],
   "source": [
    "a = 1\n",
    "\n",
    "def print_var():\n",
    "    \"\"\"fungsi ini menampilkan variable\"\"\"\n",
    "    \n",
    "    global a\n",
    "    a = 2\n",
    "    \n",
    "    print(f'[inside functional local variable a: {a}')"
   ]
  },
  {
   "cell_type": "code",
   "execution_count": 12,
   "id": "7259c687-7a90-407b-a784-64360edd6989",
   "metadata": {},
   "outputs": [
    {
     "name": "stdout",
     "output_type": "stream",
     "text": [
      "[inside functional local variable a: 2\n",
      "global variable a: 2\n"
     ]
    }
   ],
   "source": [
    "print_var()\n",
    "\n",
    "print(f'global variable a: {a}')"
   ]
  },
  {
   "cell_type": "code",
   "execution_count": 13,
   "id": "5d1f5a5e-5d03-4d45-8d60-349156cb0b90",
   "metadata": {},
   "outputs": [
    {
     "name": "stdout",
     "output_type": "stream",
     "text": [
      "pesan:  HELLO\n",
      "pesan:  HELLO JUGA\n"
     ]
    }
   ],
   "source": [
    "def message(m):\n",
    "    print(\"pesan: \",m.upper())\n",
    "    \n",
    "message(\"Hello\")\n",
    "message(\"Hello juga\")"
   ]
  },
  {
   "cell_type": "code",
   "execution_count": 14,
   "id": "0894f397-d472-4a34-94e9-45606fe120f3",
   "metadata": {},
   "outputs": [
    {
     "name": "stdout",
     "output_type": "stream",
     "text": [
      "Enter telephone number 11\n",
      "Enter price number 5\n",
      "Enter number number number\n"
     ]
    }
   ],
   "source": [
    "def message(what, number):\n",
    "    print(\"Enter\", what, \"number\", number)\n",
    "    \n",
    "message(\"telephone\", 11)\n",
    "message(\"price\", 5)\n",
    "message(\"number\", \"number\")"
   ]
  },
  {
   "cell_type": "code",
   "execution_count": 15,
   "id": "48582197-65c6-4673-9294-d5cfa215daad",
   "metadata": {},
   "outputs": [
    {
     "name": "stdout",
     "output_type": "stream",
     "text": [
      "Adi 5.6\n"
     ]
    }
   ],
   "source": [
    "def tambahUmur(nama, umur):\n",
    "    umur = umur + 0.5\n",
    "    print(nama, umur)\n",
    "    \n",
    "tambahUmur(\"Adi\",5.1)"
   ]
  },
  {
   "cell_type": "code",
   "execution_count": 16,
   "id": "42ef0b1e-4cd5-46cf-91c0-2498dde43446",
   "metadata": {},
   "outputs": [
    {
     "name": "stdout",
     "output_type": "stream",
     "text": [
      "Hello, Nama saya Jonny Kidun\n",
      "Hello, Nama saya Lucky Masnun\n",
      "Hello, Nama saya Jesse Munaroh\n",
      "Hello, Nama saya Clark Misnen\n"
     ]
    }
   ],
   "source": [
    "def introduction(firstName, lastName):\n",
    "    print(\"Hello, Nama saya\", firstName, lastName)\n",
    "    \n",
    "introduction(\"Jonny\", \"Kidun\")\n",
    "introduction(\"Lucky\", \"Masnun\")\n",
    "introduction(\"Jesse\", \"Munaroh\")\n",
    "introduction(\"Clark\", \"Misnen\")"
   ]
  },
  {
   "cell_type": "code",
   "execution_count": 17,
   "id": "65acc55e-5d24-445b-9bc6-81be4cce6ff1",
   "metadata": {},
   "outputs": [
    {
     "name": "stdout",
     "output_type": "stream",
     "text": [
      "Hello, Nama saya James Bond\n",
      "Hello, Nama saya Luke Joko\n"
     ]
    }
   ],
   "source": [
    "introduction(firstName = \"James\", lastName = \"Bond\")\n",
    "introduction(lastName = \"Joko\", firstName = \"Luke\")"
   ]
  },
  {
   "cell_type": "code",
   "execution_count": 18,
   "id": "faba077b-4104-49e1-9573-52f511436c6c",
   "metadata": {},
   "outputs": [
    {
     "name": "stdout",
     "output_type": "stream",
     "text": [
      "5 + 6 + 4 = 15\n"
     ]
    }
   ],
   "source": [
    "def jumlah(a, b, c):\n",
    "    print(a, \"+\", b, \"+\", c, \"=\", a + b + c)\n",
    "    \n",
    "# memanggil fungsi\n",
    "jumlah(5,6,4)"
   ]
  },
  {
   "cell_type": "code",
   "execution_count": 19,
   "id": "d17462ec-fa95-48bd-a192-120264dd30d9",
   "metadata": {},
   "outputs": [
    {
     "name": "stdout",
     "output_type": "stream",
     "text": [
      "haii, nama saya Nandang Rasmit\n"
     ]
    }
   ],
   "source": [
    "def introduction(firstName, lastName=\"Rasmit\"):\n",
    "    print(\"haii, nama saya\", firstName, lastName)\n",
    "    \n",
    "# call the function here\n",
    "introduction(firstName=\"Nandang\")"
   ]
  },
  {
   "cell_type": "code",
   "execution_count": 20,
   "id": "3a55311d-93c5-4f34-8042-549efa21fa30",
   "metadata": {},
   "outputs": [
    {
     "name": "stdout",
     "output_type": "stream",
     "text": [
      "haii, nama saya James Adi Bond\n"
     ]
    }
   ],
   "source": [
    "def introductionLengkap(firstName, lastName, middleName=\"Adi\"):\n",
    "    print(\"haii, nama saya\", firstName, middleName, lastName)\n",
    "    \n",
    "introductionLengkap(firstName = \"James\", lastName = \"Bond\")"
   ]
  },
  {
   "cell_type": "code",
   "execution_count": 21,
   "id": "bd2e2772-de04-49d9-9fe8-b98dc26d7449",
   "metadata": {},
   "outputs": [],
   "source": [
    "def print_multi_args(*args):\n",
    "    \"\"\"print multiple args\"\"\"\n",
    "    \n",
    "    # print(type(args))\n",
    "    for arg in args:\n",
    "        print(arg)"
   ]
  },
  {
   "cell_type": "code",
   "execution_count": 22,
   "id": "39b399de-f05f-459a-9954-7461cef6b15d",
   "metadata": {},
   "outputs": [
    {
     "name": "stdout",
     "output_type": "stream",
     "text": [
      "1\n",
      "4\n",
      "1\n",
      "76\n",
      "lala\n",
      "lili\n"
     ]
    }
   ],
   "source": [
    "print_multi_args(1,4,1,76, 'lala', 'lili')"
   ]
  },
  {
   "cell_type": "code",
   "execution_count": 23,
   "id": "b2f36513-614f-49c9-8ef7-3a79fd185947",
   "metadata": {},
   "outputs": [],
   "source": [
    "def print_multi_key_args(**kwargs):\n",
    "    \"\"\"print multiple keyword args\"\"\"\n",
    "    \n",
    "    #print(type(kwargs))\n",
    "    for key, value in kwargs.items():\n",
    "        print(f'{key}: {value}')"
   ]
  },
  {
   "cell_type": "code",
   "execution_count": 24,
   "id": "47864b04-a264-4630-a918-fca24df0d1dc",
   "metadata": {},
   "outputs": [
    {
     "name": "stdout",
     "output_type": "stream",
     "text": [
      "nama: budi\n",
      "umur: 23\n",
      "sudah_menikah: False\n",
      "alamat: jl selatan\n"
     ]
    }
   ],
   "source": [
    "print_multi_key_args(nama='budi', umur=23, sudah_menikah=False, alamat='jl selatan')"
   ]
  },
  {
   "cell_type": "code",
   "execution_count": 25,
   "id": "8085172e-a175-414d-966e-a9e821592cd7",
   "metadata": {},
   "outputs": [
    {
     "name": "stdout",
     "output_type": "stream",
     "text": [
      "boringFunction mengembalikan hasil. yaitu : 123\n"
     ]
    }
   ],
   "source": [
    "def boringFunction():\n",
    "    return 123\n",
    "\n",
    "x = boringFunction()\n",
    "\n",
    "print(\"boringFunction mengembalikan hasil. yaitu :\", x)"
   ]
  },
  {
   "cell_type": "code",
   "execution_count": 27,
   "id": "9c727d3f-2f65-49a7-8896-00d4f5eaafc7",
   "metadata": {},
   "outputs": [
    {
     "name": "stdout",
     "output_type": "stream",
     "text": [
      "Pelajaran ini menarik!\n",
      "'Boring Mode' ON.\n",
      "pelajaran ini membosankan\n"
     ]
    }
   ],
   "source": [
    "def boringFunction():\n",
    "    print(\"'Boring Mode' ON.\")\n",
    "    return 123\n",
    "\n",
    "print(\"Pelajaran ini menarik!\")\n",
    "boringFunction()\n",
    "print(\"pelajaran ini membosankan\")"
   ]
  },
  {
   "cell_type": "code",
   "execution_count": 28,
   "id": "db98b518-7d0c-4600-90fc-57a609f11680",
   "metadata": {},
   "outputs": [
    {
     "name": "stdout",
     "output_type": "stream",
     "text": [
      "7\n"
     ]
    }
   ],
   "source": [
    "def jumlah(a,b):\n",
    "    c = a + b\n",
    "    return c\n",
    "\n",
    "a = jumlah(3,4)\n",
    "print(a)"
   ]
  },
  {
   "cell_type": "code",
   "execution_count": 29,
   "id": "18c9be0b-e95e-4515-a10b-fab77fdd3ec3",
   "metadata": {},
   "outputs": [
    {
     "name": "stdout",
     "output_type": "stream",
     "text": [
      "True\n",
      "None\n"
     ]
    }
   ],
   "source": [
    "def strangeFunction(n):\n",
    "    if(n % 2 == 0):\n",
    "        return True\n",
    "    \n",
    "print(strangeFunction(4))\n",
    "print(strangeFunction(3))"
   ]
  },
  {
   "cell_type": "code",
   "execution_count": 30,
   "id": "a2eefc12-56c0-4153-8433-96ab370dc009",
   "metadata": {},
   "outputs": [
    {
     "data": {
      "text/plain": [
       "47"
      ]
     },
     "execution_count": 30,
     "metadata": {},
     "output_type": "execute_result"
    }
   ],
   "source": [
    "def sumOfList(lst):\n",
    "    sum = 0\n",
    "    \n",
    "    for elem in lst:\n",
    "        sum += elem\n",
    "        \n",
    "    return sum\n",
    "\n",
    "sumOfList([5,2,10,30])"
   ]
  },
  {
   "cell_type": "code",
   "execution_count": 31,
   "id": "a3d0425c-ca3b-4206-9781-5b1e788c232a",
   "metadata": {},
   "outputs": [
    {
     "name": "stdout",
     "output_type": "stream",
     "text": [
      "Insert 0\n",
      "[0]\n",
      "Insert 1\n",
      "[1, 0]\n",
      "Insert 2\n",
      "[2, 1, 0]\n",
      "Insert 3\n",
      "[3, 2, 1, 0]\n",
      "Insert 4\n",
      "[4, 3, 2, 1, 0]\n",
      "Hasil =  [4, 3, 2, 1, 0]\n"
     ]
    }
   ],
   "source": [
    "def strangeListFunction(n):\n",
    "    strangeList = []\n",
    "    \n",
    "    for i in range(0, n):\n",
    "        print(\"Insert\",i)\n",
    "        strangeList.insert(0, i)\n",
    "        print(strangeList)\n",
    "        \n",
    "    return strangeList\n",
    "\n",
    "print(\"Hasil = \",strangeListFunction(5))"
   ]
  },
  {
   "cell_type": "code",
   "execution_count": 32,
   "id": "ef0b6c98-a303-4f0e-858e-329c567c10a7",
   "metadata": {},
   "outputs": [
    {
     "name": "stdout",
     "output_type": "stream",
     "text": [
      "[4, 3, 2, 1, 0]\n"
     ]
    }
   ],
   "source": [
    "def strangeListFunction(n):\n",
    "    strangeList = []\n",
    "    \n",
    "    for i in range(0, n):\n",
    "        strangeList.insert(0, i)\n",
    "        \n",
    "    return strangeList\n",
    "\n",
    "print(strangeListFunction(5))"
   ]
  },
  {
   "cell_type": "code",
   "execution_count": 33,
   "id": "86564bf3-fb7c-4867-af4c-fb0f1cdcd4fa",
   "metadata": {},
   "outputs": [],
   "source": [
    "def pangkat_kuadrat_regular(nums):\n",
    "    \"\"\"return setiap angka pada nums di pangkat 2\"\"\"\n",
    "    \n",
    "    result = []\n",
    "    for num in nums:\n",
    "        result.append(num ** 2)\n",
    "        \n",
    "    return result"
   ]
  },
  {
   "cell_type": "code",
   "execution_count": 34,
   "id": "bcd2cfcb-8e66-4c91-98a6-0611db6f2b02",
   "metadata": {},
   "outputs": [
    {
     "name": "stdout",
     "output_type": "stream",
     "text": [
      "[1, 4, 9, 16, 25, 36, 49]\n"
     ]
    }
   ],
   "source": [
    "ls = [1,2,3,4,5,6,7]\n",
    "\n",
    "result = pangkat_kuadrat_regular(ls)\n",
    "\n",
    "print(result)"
   ]
  },
  {
   "cell_type": "code",
   "execution_count": 35,
   "id": "6a9c65e8-0c62-4026-8f72-f568fd3c120a",
   "metadata": {},
   "outputs": [],
   "source": [
    "def pangkat_kuadrat_map(num):\n",
    "    \"\"\"return num di pangkat 2\"\"\"\n",
    "    \n",
    "    return num ** 2"
   ]
  },
  {
   "cell_type": "code",
   "execution_count": 36,
   "id": "0c1ee8c0-a936-4d2d-a489-4b299da8ea05",
   "metadata": {},
   "outputs": [],
   "source": [
    "ls = [1,2,3,4,5,6,7]"
   ]
  },
  {
   "cell_type": "code",
   "execution_count": 37,
   "id": "95e50681-2180-4969-8f8b-7e87c939dfc1",
   "metadata": {},
   "outputs": [
    {
     "data": {
      "text/plain": [
       "[1, 4, 9, 16, 25, 36, 49]"
      ]
     },
     "execution_count": 37,
     "metadata": {},
     "output_type": "execute_result"
    }
   ],
   "source": [
    "result_pangkat = map(pangkat_kuadrat_map, ls)\n",
    "\n",
    "list(result_pangkat)"
   ]
  },
  {
   "cell_type": "code",
   "execution_count": 38,
   "id": "5220459e-483c-4fb8-aba7-291205fa9c17",
   "metadata": {},
   "outputs": [
    {
     "name": "stdout",
     "output_type": "stream",
     "text": [
      "[1, 4, 9, 16, 25, 36, 49]\n"
     ]
    }
   ],
   "source": [
    "result = list(map(pangkat_kuadrat_map, ls))\n",
    "\n",
    "print(result)"
   ]
  },
  {
   "cell_type": "code",
   "execution_count": 39,
   "id": "24e27d5d-3b01-413d-9c57-be4ad18dd363",
   "metadata": {},
   "outputs": [],
   "source": [
    "def find_odd_number_regular(nums):\n",
    "    \"\"\"loop over 'nums' and return only the odd numbers\"\"\"\n",
    "    \n",
    "    result = []\n",
    "    for num in nums:\n",
    "        if num % 2 == 0:\n",
    "            result.append(num)\n",
    "            \n",
    "    return result"
   ]
  },
  {
   "cell_type": "code",
   "execution_count": 40,
   "id": "56717d88-bc82-4826-bc1f-b4c0540db798",
   "metadata": {},
   "outputs": [
    {
     "name": "stdout",
     "output_type": "stream",
     "text": [
      "[2, 4, 6]\n"
     ]
    }
   ],
   "source": [
    "ls = [1,2,3,4,5,6,7]\n",
    "\n",
    "result = find_odd_number_regular(ls)\n",
    "print(result)"
   ]
  },
  {
   "cell_type": "code",
   "execution_count": 43,
   "id": "2d2c97ba-408a-4de0-93e1-d371fcf2b0de",
   "metadata": {},
   "outputs": [],
   "source": [
    "def find_odd_number_filter(num):\n",
    "    \"\"\"return if num is odd number\"\"\"\n",
    "    \n",
    "    if num % 2 == 0:\n",
    "        return True\n",
    "    else:\n",
    "        return False"
   ]
  },
  {
   "cell_type": "code",
   "execution_count": 44,
   "id": "243c1dca-386f-4752-bac9-a774dc8471a1",
   "metadata": {},
   "outputs": [],
   "source": [
    "def find_odd_number_filter(num):\n",
    "    \"\"\"return if num is odd number\"\"\"\n",
    "    \n",
    "    return num % 2 == 0"
   ]
  },
  {
   "cell_type": "code",
   "execution_count": 45,
   "id": "4fdda487-718e-478c-8321-d0e101694902",
   "metadata": {},
   "outputs": [
    {
     "name": "stdout",
     "output_type": "stream",
     "text": [
      "[2, 4, 6]\n"
     ]
    }
   ],
   "source": [
    "ls = [1,2,3,4,5,6,7]\n",
    "\n",
    "result = list(filter(find_odd_number_filter, ls))\n",
    "print(result)"
   ]
  },
  {
   "cell_type": "code",
   "execution_count": 46,
   "id": "279e99c3-0b9d-40db-ba20-f2308bc4bb01",
   "metadata": {},
   "outputs": [],
   "source": [
    "def contain_words_regular(words):\n",
    "    \"\"\"loop over 'words' and return if it contains 'selatan'\"\"\"\n",
    "    \n",
    "    result = []\n",
    "    for word in words:\n",
    "        if 'selatan' in word:\n",
    "            result.append(word)\n",
    "            \n",
    "    return result"
   ]
  },
  {
   "cell_type": "code",
   "execution_count": 47,
   "id": "1e7d38a3-1952-40ce-b68b-c4cf2e06f96e",
   "metadata": {},
   "outputs": [
    {
     "name": "stdout",
     "output_type": "stream",
     "text": [
      "['sedangkan rumah dia di selatan']\n"
     ]
    }
   ],
   "source": [
    "strings = ['rumahku bertempat di utara', 'rumahku aku tidak tahu', 'sedangkan rumah dia di selatan']\n",
    "\n",
    "result = contain_words_regular(strings)\n",
    "print(result)"
   ]
  },
  {
   "cell_type": "code",
   "execution_count": 48,
   "id": "e4857ea9-df97-4951-b963-e30c62bc052d",
   "metadata": {},
   "outputs": [],
   "source": [
    "def contain_words_filter(word):\n",
    "    \"\"\"return if 'word' contains the 'selatan'\"\"\"\n",
    "    \n",
    "    if 'selatan' in word:\n",
    "        return True\n",
    "    else:\n",
    "        return False"
   ]
  },
  {
   "cell_type": "code",
   "execution_count": 49,
   "id": "9c9dc7a5-c2b8-4e40-a2f7-a4149f8875f7",
   "metadata": {},
   "outputs": [],
   "source": [
    "def contain_words_filter(word):\n",
    "    \"\"\"return if 'word' contains the 'selatan'\"\"\"\n",
    "    \n",
    "    return 'selatan' in word"
   ]
  },
  {
   "cell_type": "code",
   "execution_count": 50,
   "id": "2ad2bf2d-b8e9-4588-9381-08bc726b83a3",
   "metadata": {},
   "outputs": [
    {
     "name": "stdout",
     "output_type": "stream",
     "text": [
      "['sedangkan rumah dia di selatan']\n"
     ]
    }
   ],
   "source": [
    "strings = ['rumahku bertempat di utara', 'rumahmu aku tidak tahu', 'sedangkan rumah dia di selatan']\n",
    "\n",
    "result = list(filter(contain_words_filter, strings))\n",
    "print(result)"
   ]
  },
  {
   "cell_type": "code",
   "execution_count": null,
   "id": "217e9f9f-d5e9-45b9-ae82-a95c9c036102",
   "metadata": {},
   "outputs": [],
   "source": []
  }
 ],
 "metadata": {
  "kernelspec": {
   "display_name": "Python 3 (ipykernel)",
   "language": "python",
   "name": "python3"
  },
  "language_info": {
   "codemirror_mode": {
    "name": "ipython",
    "version": 3
   },
   "file_extension": ".py",
   "mimetype": "text/x-python",
   "name": "python",
   "nbconvert_exporter": "python",
   "pygments_lexer": "ipython3",
   "version": "3.9.16"
  }
 },
 "nbformat": 4,
 "nbformat_minor": 5
}
