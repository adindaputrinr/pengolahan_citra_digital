{
 "cells": [
  {
   "cell_type": "code",
   "execution_count": 1,
   "id": "be0d9496-59d6-422a-b035-c87407fcab19",
   "metadata": {},
   "outputs": [
    {
     "name": "stdout",
     "output_type": "stream",
     "text": [
      "60.31143162393162\n",
      "31.36194444444444\n",
      "23.52145833333333\n",
      "3.900739358761747e-06\n",
      "7.4909102972399154e-06\n",
      "1.0009131205673757e-05\n"
     ]
    }
   ],
   "source": [
    "def l100kmtompg(liters):\n",
    "    gallons = liters / 3.785411784 \n",
    "    # 1 mile = \"1.60934\" meters\n",
    "    # 1 km   = 1000 meters .. 1000 * 1.60934 = 1609.344\n",
    "    # 100km = 100 * 1000 meters (The function works on 100 km)\n",
    "    miles = 100 * 1000 / 1609.344\n",
    "    return miles / gallons\n",
    "\n",
    "def mpgtol100km(miles):\n",
    "    km_100 = miles * 1609.344 * 1000 / 100\n",
    "    liters = 3.785411784\n",
    "    return liters / km_100\n",
    "\n",
    "print(l100kmtompg(3.9))\n",
    "print(l100kmtompg(7.5))\n",
    "print(l100kmtompg(10.))\n",
    "print(mpgtol100km(60.3))\n",
    "print(mpgtol100km(31.4))\n",
    "print(mpgtol100km(23.5))"
   ]
  },
  {
   "cell_type": "code",
   "execution_count": null,
   "id": "bddacc23-664c-4920-80cf-48f18a2ea9aa",
   "metadata": {},
   "outputs": [],
   "source": []
  }
 ],
 "metadata": {
  "kernelspec": {
   "display_name": "Python 3 (ipykernel)",
   "language": "python",
   "name": "python3"
  },
  "language_info": {
   "codemirror_mode": {
    "name": "ipython",
    "version": 3
   },
   "file_extension": ".py",
   "mimetype": "text/x-python",
   "name": "python",
   "nbconvert_exporter": "python",
   "pygments_lexer": "ipython3",
   "version": "3.9.16"
  }
 },
 "nbformat": 4,
 "nbformat_minor": 5
}
