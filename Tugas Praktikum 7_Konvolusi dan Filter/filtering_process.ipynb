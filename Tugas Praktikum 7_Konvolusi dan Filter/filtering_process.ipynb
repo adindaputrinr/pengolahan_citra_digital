{
 "cells": [
  {
   "cell_type": "code",
   "execution_count": 3,
   "id": "8c4c467e-ee63-4e1d-9c9d-6a0ccaf8e067",
   "metadata": {},
   "outputs": [],
   "source": [
    "import cv2\n",
    "import numpy as np"
   ]
  },
  {
   "cell_type": "code",
   "execution_count": 5,
   "id": "968f55e8-98d9-43b0-b0cc-6d5a8d67fcb8",
   "metadata": {},
   "outputs": [],
   "source": [
    "img = cv2.imread('ghibli_noise.jpeg')\n",
    "\n",
    "kernel = np.ones((5, 5), np.float32) / 25\n",
    "\n",
    "filtered_img = cv2.filter2D(img, -1, kernel)\n",
    "\n",
    "cv2.imshow('Original Image', img)\n",
    "cv2.imshow('Filtered Image', filtered_img)\n",
    "\n",
    "cv2.waitKey(0)\n",
    "\n",
    "cv2.destroyAllWindows()"
   ]
  }
 ],
 "metadata": {
  "kernelspec": {
   "display_name": "Python 3 (ipykernel)",
   "language": "python",
   "name": "python3"
  },
  "language_info": {
   "codemirror_mode": {
    "name": "ipython",
    "version": 3
   },
   "file_extension": ".py",
   "mimetype": "text/x-python",
   "name": "python",
   "nbconvert_exporter": "python",
   "pygments_lexer": "ipython3",
   "version": "3.9.16"
  }
 },
 "nbformat": 4,
 "nbformat_minor": 5
}
