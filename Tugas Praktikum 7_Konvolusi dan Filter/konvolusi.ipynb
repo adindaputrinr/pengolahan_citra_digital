{
 "cells": [
  {
   "cell_type": "code",
   "execution_count": 5,
   "id": "ea45a6f0-52e1-47ef-be2e-3dd293e6c229",
   "metadata": {},
   "outputs": [
    {
     "name": "stdout",
     "output_type": "stream",
     "text": [
      "[[ 5 20  0]\n",
      " [ 3 13  7]\n",
      " [ 5 19  0]]\n"
     ]
    }
   ],
   "source": [
    "import numpy as np\n",
    "\n",
    "def convolution(image, kernel):\n",
    "    # Membuat variabel untuk menyimpan ukuran gambar dan kernel\n",
    "    image_height, image_width = image.shape\n",
    "    kernel_height, kernel_width = kernel.shape\n",
    "    \n",
    "    # Membuat variabel untuk menyimpan output gambar\n",
    "    output = np.zeros_like(image)\n",
    "    \n",
    "    # Melakukan zero-padding pada gambar\n",
    "    padded_image = np.zeros((image_height + 2, image_width + 2))\n",
    "    padded_image[1:-1, 1:-1] = image\n",
    "    \n",
    "    # Melakukan konvolusi pada gambar dengan kernel\n",
    "    for i in range(image_height):\n",
    "        for j in range(image_width):\n",
    "            output[i, j] = np.sum(kernel * padded_image[i:i+kernel_height, j:j+kernel_width])\n",
    "    \n",
    "    return output\n",
    "\n",
    "image = np.array([[2, 0, 0], [5, 0, 0], [1, 0, 7]])\n",
    "kernel = np.array([[1, 1, 2], [0, 0, 2], [4, 1, 1]])\n",
    "output = convolution(image, kernel)\n",
    "\n",
    "print(output)"
   ]
  }
 ],
 "metadata": {
  "kernelspec": {
   "display_name": "Python 3 (ipykernel)",
   "language": "python",
   "name": "python3"
  },
  "language_info": {
   "codemirror_mode": {
    "name": "ipython",
    "version": 3
   },
   "file_extension": ".py",
   "mimetype": "text/x-python",
   "name": "python",
   "nbconvert_exporter": "python",
   "pygments_lexer": "ipython3",
   "version": "3.9.16"
  }
 },
 "nbformat": 4,
 "nbformat_minor": 5
}
