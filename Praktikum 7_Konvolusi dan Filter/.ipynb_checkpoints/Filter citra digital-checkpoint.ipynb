{
 "cells": [
  {
   "cell_type": "code",
   "execution_count": 5,
   "id": "436ce358-9dc4-49f7-a79e-8bd033942a2f",
   "metadata": {},
   "outputs": [],
   "source": [
    "import cv2\n",
    "import numpy as np\n",
    "import matplotlib.pyplot as plt"
   ]
  },
  {
   "cell_type": "code",
   "execution_count": 9,
   "id": "a348a3fd-e07b-4fcf-bfbb-18da399f550c",
   "metadata": {},
   "outputs": [],
   "source": [
    "citra = cv2.imread('bob.jpg', 0)\n",
    "kernel = np.float32([[1, 1, 1],\n",
    "                     [1, 1, 1],\n",
    "                     [1, 1, 1]]) / 9\n",
    "terfilter = cv2.filter2D(citra, -1, kernel)\n",
    "combine = np.hstack((citra, terfilter))"
   ]
  },
  {
   "cell_type": "code",
   "execution_count": 10,
   "id": "1ba33aee-5ac5-4f06-bdee-2e694ab45bc7",
   "metadata": {},
   "outputs": [],
   "source": [
    "# Tampilkan citra asal dan hasilnya\n",
    "cv2.imshow('Hasil', terfilter)\n",
    "cv2.imshow(\"ori\",citra)\n",
    "cv2.imshow(\"Gabungan\",combine)\n",
    "cv2.waitKey(0)\n",
    "cv2.destroyAllWindows()"
   ]
  },
  {
   "cell_type": "code",
   "execution_count": 11,
   "id": "e45351b0-eaf5-4067-8005-57d7112d2b38",
   "metadata": {},
   "outputs": [],
   "source": [
    "citra = cv2.imread('bob.jpg')\n",
    "jumBaris, jumKolom = citra.shape[:2]\n",
    "\n",
    "citra = cv2.resize(citra,\n",
    "            (int(0.5 * jumBaris), int(0.5 * jumKolom)))\n",
    "\n",
    "kernelA = np.float32([[0, -1, 0],\n",
    "                      [-1, 4, -1],\n",
    "                      [0, -1, -1]])\n",
    "kernelB = np.float32([[-1, -1, -1],\n",
    "                      [-1, 8, -1],\n",
    "                      [-1, -1, -1]])\n",
    "kernelC = np.float32([[1, -2, 1],\n",
    "                      [-2, 4, -2],\n",
    "                      [1, -2, 1]])\n",
    "\n",
    "filterA = cv2.filter2D(citra, -1, kernelA)\n",
    "filterB = cv2.filter2D(citra, -1, kernelB)\n",
    "filterC = cv2.filter2D(citra, -1, kernelC)\n",
    "\n",
    "baris1 = np.hstack((citra, filterA))\n",
    "baris2 = np.hstack((filterB, filterC))\n",
    "\n",
    "hasil = np.vstack((baris1, baris2))"
   ]
  },
  {
   "cell_type": "code",
   "execution_count": 12,
   "id": "01e29544-bc36-418b-a822-45dd807d271c",
   "metadata": {},
   "outputs": [],
   "source": [
    "# Tampilkan citra asal dan hasilnya\n",
    "cv2.imshow('Hasil', hasil)\n",
    "cv2.waitKey(0)\n",
    "cv2.destroyAllWindows()"
   ]
  },
  {
   "cell_type": "code",
   "execution_count": 13,
   "id": "aca88def-c6a6-434a-aebf-7cfa1145d50d",
   "metadata": {},
   "outputs": [],
   "source": [
    "citra = cv2.imread('ghibli.jpeg')\n",
    "jumBaris, jumKolom = citra.shape[:2]\n",
    "\n",
    "citra = cv2.resize(citra,\n",
    "            (int(0.5 * jumBaris), int(0.5 * jumKolom)))\n",
    "\n",
    "kernelA = np.float32([[-1, -1, -1],\n",
    "                      [-1, 9, -1],\n",
    "                      [-1, -1, -1]])\n",
    "kernelB = np.float32([[-1, -1, -1],\n",
    "                      [-1, 10, -1],\n",
    "                      [-1, -1, -1]])\n",
    "kernelC = np.float32([[1, -1, 1],\n",
    "                      [-1, 13, -1],\n",
    "                      [-1, -1, -1]])\n",
    "\n",
    "filterA = cv2.filter2D(citra, -1, kernelA)\n",
    "filterB = cv2.filter2D(citra, -1, kernelB)\n",
    "filterC = cv2.filter2D(citra, -1, kernelC)\n",
    "\n",
    "baris1 = np.hstack((citra, filterA))\n",
    "baris2 = np.hstack((filterB, filterC))\n",
    "\n",
    "hasil = np.vstack((baris1, baris2))"
   ]
  },
  {
   "cell_type": "code",
   "execution_count": 14,
   "id": "950ee2cf-be68-4e70-a53e-729e128d4455",
   "metadata": {},
   "outputs": [],
   "source": [
    "# Tampilkan citra asal dan hasilnya\n",
    "cv2.imshow('Hasil', hasil)\n",
    "cv2.waitKey(0)\n",
    "cv2.destroyAllWindows()"
   ]
  },
  {
   "cell_type": "code",
   "execution_count": 16,
   "id": "f7d5267d-fc5a-4db9-bd5c-2b76a171cc8e",
   "metadata": {},
   "outputs": [],
   "source": [
    "citra = cv2.imread('ghibli.jpeg')\n",
    "\n",
    "kernel = np.float32([[0, 0, 0],\n",
    "                      [4, 0, -4],\n",
    "                      [0, 0, 0]])\n",
    "\n",
    "terfilter = cv2.filter2D(citra, -1, kernel)\n",
    "\n",
    "hasil = np.hstack((citra, terfilter))"
   ]
  },
  {
   "cell_type": "code",
   "execution_count": 21,
   "id": "5c9a13ed-6614-4e33-8766-a5fca7c3c42e",
   "metadata": {},
   "outputs": [],
   "source": [
    "# Tampilkan citra asal dan hasilnya\n",
    "cv2.imshow('Hasil', hasil)\n",
    "cv2.waitKey(0)\n",
    "cv2.destroyAllWindows()"
   ]
  },
  {
   "cell_type": "code",
   "execution_count": 23,
   "id": "ee5f1e07-f1c7-456d-a274-270e8c99841d",
   "metadata": {},
   "outputs": [],
   "source": [
    "citra = cv2.imread('ghibli.jpeg')\n",
    "\n",
    "blur1 = cv2.medianBlur(citra, 5)\n",
    "blur2 = cv2.medianBlur(citra, 45)\n",
    "\n",
    "hasil = np.hstack((citra, blur1, blur2))"
   ]
  },
  {
   "cell_type": "code",
   "execution_count": 24,
   "id": "2fab7e77-8264-4a3c-9015-9984afba3998",
   "metadata": {},
   "outputs": [],
   "source": [
    "# Tampilkan citra asal dan hasilnya\n",
    "cv2.imshow('Hasil', hasil)\n",
    "cv2.waitKey(0)\n",
    "cv2.destroyAllWindows()"
   ]
  },
  {
   "cell_type": "code",
   "execution_count": 25,
   "id": "8373d3a8-d1d6-44a5-9146-75b373957dab",
   "metadata": {},
   "outputs": [],
   "source": [
    "citra = cv2.imread('ghibli.jpeg')\n",
    "\n",
    "blur1 = cv2.blur(citra, (5, 5))\n",
    "blur2 = cv2.blur(citra, (13, 13))\n",
    "\n",
    "hasil = np.hstack((citra, blur1, blur2))"
   ]
  },
  {
   "cell_type": "code",
   "execution_count": 26,
   "id": "1725d3c0-71a7-40b7-ba87-8e38e1ebc6cc",
   "metadata": {},
   "outputs": [],
   "source": [
    "# Tampilkan citra asal dan hasilnya\n",
    "cv2.imshow('Hasil', hasil)\n",
    "cv2.waitKey(0)\n",
    "cv2.destroyAllWindows()"
   ]
  },
  {
   "cell_type": "code",
   "execution_count": 27,
   "id": "6d777de8-417f-4fe9-baf6-d4d29ebb1e17",
   "metadata": {},
   "outputs": [],
   "source": [
    "citra = cv2.imread('ghibli.jpeg')\n",
    "\n",
    "blur1 = cv2.GaussianBlur(citra, (5, 5), 0)\n",
    "blur2 = cv2.GaussianBlur(citra, (45, 45), 0)\n",
    "\n",
    "hasil = np.hstack((citra, blur1, blur2))"
   ]
  },
  {
   "cell_type": "code",
   "execution_count": 28,
   "id": "bc9618e7-ba74-45c1-8c60-4d0f42c456e7",
   "metadata": {},
   "outputs": [],
   "source": [
    "# Tampilkan citra asal dan hasilnya\n",
    "cv2.imshow('Hasil', hasil)\n",
    "cv2.waitKey(0)\n",
    "cv2.destroyAllWindows()"
   ]
  },
  {
   "cell_type": "code",
   "execution_count": 29,
   "id": "d4513676-6480-4c34-bcc8-abfa181a2ca2",
   "metadata": {},
   "outputs": [],
   "source": [
    "citra = cv2.imread('ghibli.jpeg')\n",
    "\n",
    "blur1 = cv2.bilateralFilter(citra, 10, 75, 75)\n",
    "blur2 = cv2.bilateralFilter(citra, 10, 150, 150)\n",
    "\n",
    "hasil = np.hstack((citra, blur1, blur2))"
   ]
  },
  {
   "cell_type": "code",
   "execution_count": 31,
   "id": "027add2a-7418-4d0c-9d5c-796cfa01d42c",
   "metadata": {},
   "outputs": [],
   "source": [
    "# Tampilkan citra asal dan hasilnya\n",
    "cv2.imshow('Hasil', hasil)\n",
    "cv2.waitKey(0)\n",
    "cv2.destroyAllWindows()"
   ]
  },
  {
   "cell_type": "code",
   "execution_count": 32,
   "id": "ad0a90bd-f928-4443-9564-c811f5f11453",
   "metadata": {},
   "outputs": [],
   "source": [
    "import random\n",
    "\n",
    "citra = cv2.imread('ghibli.jpeg', 0)\n",
    "\n",
    "hasil = citra.copy() #salin isi citra\n",
    "jumBaris, jumKolom = hasil.shape[:2]\n",
    "prob=0.1\n",
    "for baris in range(jumBaris):\n",
    "    for kolom in range(jumKolom):\n",
    "        nilaiAcak = random.random()\n",
    "        if nilaiAcak < prob / 2:\n",
    "            hasil[baris, kolom] = 0 #merica\n",
    "        elif nilaiAcak > prob / 2 and\\\n",
    "             nilaiAcak <= prob:\n",
    "            hasil[baris, kolom] = 255 #garam"
   ]
  },
  {
   "cell_type": "code",
   "execution_count": 33,
   "id": "024d4d6e-2acc-449a-a6d8-4a891048d000",
   "metadata": {},
   "outputs": [
    {
     "data": {
      "text/plain": [
       "True"
      ]
     },
     "execution_count": 33,
     "metadata": {},
     "output_type": "execute_result"
    }
   ],
   "source": [
    "cv2.imshow('Original', citra)\n",
    "cv2.imshow('Hasil rotasi', hasil)\n",
    "\n",
    "cv2.waitKey(0)\n",
    "cv2.destroyAllWindows()\n",
    "\n",
    "#simpan citra\n",
    "cv2.imwrite('ghibli_noise.jpeg', hasil)"
   ]
  },
  {
   "cell_type": "code",
   "execution_count": 34,
   "id": "db7aed31-40a5-4e28-9694-2bd793ee7e58",
   "metadata": {},
   "outputs": [],
   "source": [
    "citra = cv2.imread('ghibli_noise.jpeg', 0)\n",
    "if citra is None:\n",
    "    print('Berkas citra tak dapat dibaca')\n",
    "else:\n",
    "    terfilter = cv2.medianBlur(citra, 5)\n",
    "    hasil = np.hstack((citra, terfilter))"
   ]
  },
  {
   "cell_type": "code",
   "execution_count": 35,
   "id": "ab53c57a-83f9-44fd-a12b-35096fe199d7",
   "metadata": {},
   "outputs": [],
   "source": [
    "# Tampilkan citra asal dan hasilnya\n",
    "cv2.imshow('Hasil', hasil)\n",
    "cv2.waitKey(0)\n",
    "cv2.destroyAllWindows()"
   ]
  },
  {
   "cell_type": "code",
   "execution_count": 39,
   "id": "91b141ae-a9f4-4abf-8622-79dc0b8773b8",
   "metadata": {},
   "outputs": [],
   "source": [
    "citra = cv2.imread('ghibli_noise.jpeg', 0)\n",
    "if citra is None:\n",
    "    print('Berkas citra tak dapat dibaca')\n",
    "else:\n",
    "    terfilter = cv2.fastNlMeansDenoising(citra, None, 30)\n",
    "    hasil = np.hstack((citra, terfilter))"
   ]
  },
  {
   "cell_type": "code",
   "execution_count": 40,
   "id": "35ef5668-0eeb-458c-8f26-2b2723b309b0",
   "metadata": {},
   "outputs": [],
   "source": [
    "# Tampilkan citra asal dan hasilnya\n",
    "cv2.imshow('Hasil', hasil)\n",
    "cv2.waitKey(0)\n",
    "cv2.destroyAllWindows()"
   ]
  },
  {
   "cell_type": "code",
   "execution_count": 42,
   "id": "b131e858-b0b4-4c87-a9bf-d0978d86d587",
   "metadata": {},
   "outputs": [],
   "source": [
    "citra = cv2.imread('ghibli_noise.jpeg')\n",
    "if citra is None:\n",
    "    print('Berkas citra tak dapat dibaca')\n",
    "else:\n",
    "    terfilter = cv2.fastNlMeansDenoisingColored(citra, None, 30, 30)\n",
    "    hasil = np.hstack((citra, terfilter))"
   ]
  },
  {
   "cell_type": "code",
   "execution_count": 43,
   "id": "147c5774-f54f-4a6b-9c73-25193240c843",
   "metadata": {},
   "outputs": [],
   "source": [
    "# Tampilkan citra asal dan hasilnya\n",
    "cv2.imshow('Hasil', hasil)\n",
    "cv2.waitKey(0)\n",
    "cv2.destroyAllWindows()"
   ]
  }
 ],
 "metadata": {
  "kernelspec": {
   "display_name": "Python 3 (ipykernel)",
   "language": "python",
   "name": "python3"
  },
  "language_info": {
   "codemirror_mode": {
    "name": "ipython",
    "version": 3
   },
   "file_extension": ".py",
   "mimetype": "text/x-python",
   "name": "python",
   "nbconvert_exporter": "python",
   "pygments_lexer": "ipython3",
   "version": "3.9.16"
  }
 },
 "nbformat": 4,
 "nbformat_minor": 5
}
