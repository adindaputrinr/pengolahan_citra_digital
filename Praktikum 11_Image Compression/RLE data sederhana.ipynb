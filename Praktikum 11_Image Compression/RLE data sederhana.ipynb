{
 "cells": [
  {
   "cell_type": "markdown",
   "id": "e430b03e-b932-4db9-9919-ca8ea60ca0a0",
   "metadata": {},
   "source": [
    "Encoding"
   ]
  },
  {
   "cell_type": "code",
   "execution_count": 1,
   "id": "99ed337d-5719-4a02-89ff-eb5b57a00be3",
   "metadata": {
    "tags": []
   },
   "outputs": [],
   "source": [
    "def encode_message(message):\n",
    "    encoded_string = \"\"\n",
    "    i = 0\n",
    "    while (i <= len(message)-1):\n",
    "        count = 1\n",
    "        ch = message[i]\n",
    "        j = i\n",
    "        while (j < len(message)-1):\n",
    "            if (message[j] == message[j + 1]):\n",
    "                count = count + 1\n",
    "                j = j + 1\n",
    "            else:\n",
    "                break\n",
    "        encoded_string = encoded_string + str(count) + ch\n",
    "        i = j + 1\n",
    "    return encoded_string"
   ]
  },
  {
   "cell_type": "markdown",
   "id": "ba16915a-fb80-49df-8c73-4d47d4344067",
   "metadata": {},
   "source": [
    "Decoding"
   ]
  },
  {
   "cell_type": "code",
   "execution_count": 6,
   "id": "39186903-a8e8-464c-8027-007e02ee2116",
   "metadata": {},
   "outputs": [],
   "source": [
    "def decode_message(our_message):\n",
    "        decoded_message = \"\"\n",
    "        i=0\n",
    "        j=0\n",
    "        while (i <= len(our_message)-1):\n",
    "            run_count = int(our_message[i])\n",
    "            run_word = our_message[i + 1]\n",
    "            for j in range(run_count):\n",
    "                    decoded_message = decoded_message+run_word\n",
    "                    j = j + 1\n",
    "            i = i + 2\n",
    "        return decoded_message"
   ]
  },
  {
   "cell_type": "markdown",
   "id": "258b98c6-15ca-4078-ab27-de9fd4a7e1f8",
   "metadata": {},
   "source": [
    "Display"
   ]
  },
  {
   "cell_type": "code",
   "execution_count": 7,
   "id": "6cea4555-2fe4-4423-9a28-bd3ef6c8ddde",
   "metadata": {},
   "outputs": [
    {
     "name": "stdout",
     "output_type": "stream",
     "text": [
      "Original string: [AuuBBBCCCCCCcccccCCCCCCCCCA] [1A2u3B6C5c9C1A]\n",
      "Decoded string: [AuuBBBCCCCCCcccccCCCCCCCCCA]\n",
      "\n"
     ]
    }
   ],
   "source": [
    "def display():\n",
    "        our_message = \"AuuBBBCCCCCCcccccCCCCCCCCCA\"\n",
    "        encoded_message=encode_message(our_message)\n",
    "        decoded_message=decode_message(encoded_message)\n",
    "        print(\"Original string: [\"+our_message+\"] [\"+encoded_message+\"]\\nDecoded string: [\"+decoded_message+\"]\\n\")\n",
    "display()"
   ]
  },
  {
   "cell_type": "code",
   "execution_count": null,
   "id": "3030ad71-a5f0-4c4e-b0be-bb647c017f68",
   "metadata": {},
   "outputs": [],
   "source": []
  }
 ],
 "metadata": {
  "kernelspec": {
   "display_name": "Python 3 (ipykernel)",
   "language": "python",
   "name": "python3"
  },
  "language_info": {
   "codemirror_mode": {
    "name": "ipython",
    "version": 3
   },
   "file_extension": ".py",
   "mimetype": "text/x-python",
   "name": "python",
   "nbconvert_exporter": "python",
   "pygments_lexer": "ipython3",
   "version": "3.9.16"
  }
 },
 "nbformat": 4,
 "nbformat_minor": 5
}
