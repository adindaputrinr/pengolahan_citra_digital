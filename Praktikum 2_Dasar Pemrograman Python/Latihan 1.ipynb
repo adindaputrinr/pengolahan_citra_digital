{
 "cells": [
  {
   "cell_type": "code",
   "execution_count": 5,
   "id": "b20e6882-ef81-4f3d-9a1b-98f939914a2f",
   "metadata": {},
   "outputs": [],
   "source": [
    "list_of_dicts = [\n",
    "    {'nama': 'agus', 'nilai': 83},\n",
    "    {'nama': 'sari', 'nilai': 85},\n",
    "    {'nama': 'putri', 'nilai': 68},\n",
    "    {'nama': 'bambang', 'nilai': 65}\n",
    "]"
   ]
  },
  {
   "cell_type": "code",
   "execution_count": 7,
   "id": "84d9bf9e-67fc-4308-9847-81723ed15fc9",
   "metadata": {},
   "outputs": [
    {
     "name": "stdout",
     "output_type": "stream",
     "text": [
      "[['agus', 83], ['sari', 85], ['putri', 68], ['bambang', 65]]\n"
     ]
    }
   ],
   "source": [
    "nama = [['agus', 83], ['sari', 85], ['putri', 68], ['bambang', 65]]\n",
    "\n",
    "print(nama)"
   ]
  },
  {
   "cell_type": "code",
   "execution_count": 8,
   "id": "8a6a5fe4-1a72-47df-a5b7-6e761cf01cdc",
   "metadata": {},
   "outputs": [
    {
     "name": "stdout",
     "output_type": "stream",
     "text": [
      "{'nama': 'agus', 'nilai': 83}\n",
      "{'nama': 'sari', 'nilai': 85}\n",
      "{'nama': 'putri', 'nilai': 68}\n",
      "{'nama': 'bambang', 'nilai': 65}\n"
     ]
    }
   ],
   "source": [
    "for list_of_dict in list_of_dicts:\n",
    "    print(list_of_dict)"
   ]
  },
  {
   "cell_type": "code",
   "execution_count": 9,
   "id": "a4195867-bd81-4cbf-8b8c-b9820292c689",
   "metadata": {},
   "outputs": [
    {
     "name": "stdout",
     "output_type": "stream",
     "text": [
      "siswa bernama agus dgn nilai mtk: 83 , dinyatakan LULUS!\n",
      "siswa bernama sari dgn nilai mtk: 85 , dinyatakan LULUS!\n",
      "siswa bernama putri dgn nilai mtk: 68 , dinyatakan TIDAK lulus!\n",
      "siswa bernama bambang dgn nilai mtk: 65 , dinyatakan TIDAK lulus!\n"
     ]
    }
   ],
   "source": [
    "data = [(\"agus\", 83), (\"sari\", 85), (\"putri\", 68), (\"bambang\", 65)]\n",
    "for item in data:\n",
    "    name, score = item\n",
    "    if score >= 70:\n",
    "        print(\"siswa bernama\", name, \"dgn nilai mtk:\", score, \", dinyatakan LULUS!\")\n",
    "    else:\n",
    "        print(\"siswa bernama\", name, \"dgn nilai mtk:\", score, \", dinyatakan TIDAK lulus!\")"
   ]
  },
  {
   "cell_type": "code",
   "execution_count": 10,
   "id": "f7939505-cf1b-42eb-b58c-ffc6ba69fee7",
   "metadata": {},
   "outputs": [
    {
     "name": "stdout",
     "output_type": "stream",
     "text": [
      "['agus', 'sari']\n",
      "['putri', 'bambang']\n"
     ]
    }
   ],
   "source": [
    "data = [(\"agus\", 83), (\"sari\", 85), (\"putri\", 68), (\"bambang\", 65)]\n",
    "lulus = [name for name, score in data if score >= 70]\n",
    "tidak_lulus = [name for name, score in data if score < 70]\n",
    "\n",
    "print(lulus)\n",
    "print(tidak_lulus)"
   ]
  }
 ],
 "metadata": {
  "kernelspec": {
   "display_name": "Python 3 (ipykernel)",
   "language": "python",
   "name": "python3"
  },
  "language_info": {
   "codemirror_mode": {
    "name": "ipython",
    "version": 3
   },
   "file_extension": ".py",
   "mimetype": "text/x-python",
   "name": "python",
   "nbconvert_exporter": "python",
   "pygments_lexer": "ipython3",
   "version": "3.9.16"
  }
 },
 "nbformat": 4,
 "nbformat_minor": 5
}
