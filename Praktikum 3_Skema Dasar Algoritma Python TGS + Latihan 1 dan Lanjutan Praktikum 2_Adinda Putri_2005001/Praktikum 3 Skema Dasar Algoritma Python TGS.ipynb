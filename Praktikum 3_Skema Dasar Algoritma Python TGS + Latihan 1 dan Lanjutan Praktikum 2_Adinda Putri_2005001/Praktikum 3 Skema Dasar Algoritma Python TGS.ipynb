{
 "cells": [
  {
   "cell_type": "code",
   "execution_count": 1,
   "id": "667bd680-124b-460a-9639-c566771f6564",
   "metadata": {},
   "outputs": [],
   "source": [
    "a = 1\n",
    "b = 3\n",
    "c = [1, 2]\n",
    "d = []"
   ]
  },
  {
   "cell_type": "code",
   "execution_count": 2,
   "id": "b8b8f5cc-7ee1-46f4-9b6e-49f2b0ba3a2e",
   "metadata": {},
   "outputs": [
    {
     "name": "stdout",
     "output_type": "stream",
     "text": [
      "False\n",
      "True\n",
      "True\n",
      "True\n",
      "False\n",
      "False\n"
     ]
    }
   ],
   "source": [
    "print(a == b)\n",
    "print(a != b)\n",
    "print(a < b)\n",
    "print(a <= b)\n",
    "print(a > b)\n",
    "print(a >= b)"
   ]
  },
  {
   "cell_type": "code",
   "execution_count": 3,
   "id": "955bc4f5-afef-4b6b-bfbd-85a2bfe0260b",
   "metadata": {},
   "outputs": [
    {
     "name": "stdout",
     "output_type": "stream",
     "text": [
      "True\n"
     ]
    }
   ],
   "source": [
    "print(a in c)"
   ]
  },
  {
   "cell_type": "code",
   "execution_count": 4,
   "id": "a6334683-1247-47ec-8f2e-679a4e2810c8",
   "metadata": {},
   "outputs": [
    {
     "name": "stdout",
     "output_type": "stream",
     "text": [
      "True\n"
     ]
    }
   ],
   "source": [
    "print(isinstance(a,int))"
   ]
  },
  {
   "cell_type": "code",
   "execution_count": 5,
   "id": "715a0cb9-1757-45ac-be53-525b95f81557",
   "metadata": {},
   "outputs": [
    {
     "name": "stdout",
     "output_type": "stream",
     "text": [
      "False\n"
     ]
    }
   ],
   "source": [
    "print(d is False)"
   ]
  },
  {
   "cell_type": "code",
   "execution_count": 6,
   "id": "74872340-f5d9-461b-abad-010da697f220",
   "metadata": {},
   "outputs": [
    {
     "name": "stdout",
     "output_type": "stream",
     "text": [
      "True\n"
     ]
    }
   ],
   "source": [
    "print(len(d) == 0)"
   ]
  },
  {
   "cell_type": "code",
   "execution_count": 7,
   "id": "c4b501cb-ca7f-4fa2-8f19-4edf2b65053b",
   "metadata": {},
   "outputs": [
    {
     "name": "stdout",
     "output_type": "stream",
     "text": [
      "False\n",
      "True\n"
     ]
    }
   ],
   "source": [
    "print(a == b and a in c)\n",
    "print(a == b or a in c)"
   ]
  },
  {
   "cell_type": "code",
   "execution_count": 8,
   "id": "2745c8c5-86fc-4750-a8fa-35cac33f1f4c",
   "metadata": {},
   "outputs": [],
   "source": [
    "a = 1\n",
    "if a > 2:\n",
    "    print('a lebih besar dari 2')"
   ]
  },
  {
   "cell_type": "code",
   "execution_count": 9,
   "id": "3065235e-e425-4758-afdf-d8ebe51734a2",
   "metadata": {},
   "outputs": [
    {
     "name": "stdout",
     "output_type": "stream",
     "text": [
      "a lebih kecil dari b\n"
     ]
    }
   ],
   "source": [
    "a = 2\n",
    "b = 3\n",
    "if a > b:\n",
    "    print('a lebih besar dari b')\n",
    "else:\n",
    "    print('a lebih kecil dari b')"
   ]
  },
  {
   "cell_type": "code",
   "execution_count": 10,
   "id": "3c581527-f2bd-4229-a2bc-80aee5771a53",
   "metadata": {},
   "outputs": [
    {
     "name": "stdout",
     "output_type": "stream",
     "text": [
      "a adalah angka negatif: nilai a adalah -2\n"
     ]
    }
   ],
   "source": [
    "a = -2\n",
    "if a > 0:\n",
    "    print(f'a adalah angka positif: nilai a adalah {a}')\n",
    "elif a == 0:\n",
    "    print('a adalah 0')\n",
    "else:\n",
    "    print(f'a adalah angka negatif: nilai a adalah {a}')"
   ]
  },
  {
   "cell_type": "code",
   "execution_count": 12,
   "id": "61a34d9f-151a-41a0-bc8f-e2bd1ed8ddc9",
   "metadata": {},
   "outputs": [],
   "source": [
    "nama = 'Lukman'\n",
    "umur = 24"
   ]
  },
  {
   "cell_type": "code",
   "execution_count": 13,
   "id": "3a15df53-e8c4-4141-8bf2-8a621f263ba4",
   "metadata": {},
   "outputs": [
    {
     "name": "stdout",
     "output_type": "stream",
     "text": [
      "nama dan umur cocok!\n"
     ]
    }
   ],
   "source": [
    "if nama == 'Lukman' and umur == 24:\n",
    "    print('nama dan umur cocok!')\n",
    "elif nama == 'Lukman' or umur == 26:\n",
    "    print('nama atau umur cocok')\n",
    "else:\n",
    "    print('nama & umur tidak cocok')"
   ]
  },
  {
   "cell_type": "code",
   "execution_count": 14,
   "id": "a4325461-e84c-43d3-8698-99c216ec3d89",
   "metadata": {},
   "outputs": [
    {
     "name": "stdout",
     "output_type": "stream",
     "text": [
      "nama cocok, tapi umur tidak cocok\n"
     ]
    }
   ],
   "source": [
    "if nama == 'Lukman' and umur == 26:\n",
    "    print('nama dan umur cocok!')\n",
    "elif nama == 'Lukman' and umur != 26:\n",
    "    print('nama cocok, tapi umur tidak cocok')\n",
    "elif nama != 'Lukman' and umur == 26:\n",
    "    print('nama tidak cocok, tapi umur cocok')\n",
    "else:\n",
    "    print('nama & umur tidak cocok')"
   ]
  },
  {
   "cell_type": "code",
   "execution_count": 15,
   "id": "8095514d-d2e1-4771-989f-1f07cdd3cd10",
   "metadata": {},
   "outputs": [],
   "source": [
    "a = 9.3"
   ]
  },
  {
   "cell_type": "code",
   "execution_count": 17,
   "id": "457f021b-5418-4e68-9bd9-031682231439",
   "metadata": {},
   "outputs": [
    {
     "name": "stdout",
     "output_type": "stream",
     "text": [
      "a adalah selain string dn int\n"
     ]
    }
   ],
   "source": [
    "if isinstance(a,int):\n",
    "    if a > 0:\n",
    "        if a >= 5:\n",
    "            print(f'a adalah angka positif lebih dari sama dengan 5. Nilai a adalah {a}')\n",
    "        else:\n",
    "            print(f'a adalah angka positif kurang dqri 5. Nilai a adalah {a}')\n",
    "    elif a == 0:\n",
    "        print('a adalah 0')\n",
    "    else:\n",
    "        print(f'a adalah angka negatif: nilai a adalah {a}')\n",
    "elif isinstance(a,str):\n",
    "    print('a adalah string')\n",
    "else:\n",
    "    print('a adalah selain string dn int')"
   ]
  },
  {
   "cell_type": "code",
   "execution_count": 18,
   "id": "db66d17d-133f-45e1-a03c-c1f6e6520160",
   "metadata": {},
   "outputs": [],
   "source": [
    "list_buah = ['apel', 'anggur', 'belimbing', 'ceri', 'duren']"
   ]
  },
  {
   "cell_type": "code",
   "execution_count": 19,
   "id": "28ca9d14-5192-4549-8313-1a3c71605fc9",
   "metadata": {},
   "outputs": [
    {
     "name": "stdout",
     "output_type": "stream",
     "text": [
      "apel\n",
      "anggur\n",
      "belimbing\n",
      "ceri\n",
      "duren\n"
     ]
    }
   ],
   "source": [
    "for value in list_buah:\n",
    "    print(value)"
   ]
  },
  {
   "cell_type": "code",
   "execution_count": 21,
   "id": "f9f1af44-6103-43b8-a7ea-907614d54657",
   "metadata": {},
   "outputs": [
    {
     "name": "stdout",
     "output_type": "stream",
     "text": [
      "<class 'range'>\n",
      "range(0, 8)\n"
     ]
    }
   ],
   "source": [
    "var_range = range(8)\n",
    "\n",
    "print(type(var_range))\n",
    "print(var_range)"
   ]
  },
  {
   "cell_type": "code",
   "execution_count": 22,
   "id": "8a74ce95-f1a8-41a6-8240-f0c311c98022",
   "metadata": {},
   "outputs": [
    {
     "name": "stdout",
     "output_type": "stream",
     "text": [
      "[0, 1, 2, 3, 4, 5, 6, 7]\n"
     ]
    }
   ],
   "source": [
    "print(list(var_range))"
   ]
  },
  {
   "cell_type": "code",
   "execution_count": 23,
   "id": "bd2dbe36-15f9-4b14-ba1b-be7225fbde30",
   "metadata": {},
   "outputs": [
    {
     "name": "stdout",
     "output_type": "stream",
     "text": [
      "0\n",
      "1\n",
      "2\n",
      "3\n",
      "4\n",
      "5\n",
      "6\n",
      "7\n"
     ]
    }
   ],
   "source": [
    "for idx in range(8):\n",
    "    print(idx)"
   ]
  },
  {
   "cell_type": "code",
   "execution_count": 24,
   "id": "7d0e4f1d-ecac-4dbf-a192-d02a88a5a40e",
   "metadata": {},
   "outputs": [
    {
     "name": "stdout",
     "output_type": "stream",
     "text": [
      "5\n"
     ]
    }
   ],
   "source": [
    "print(len(list_buah))"
   ]
  },
  {
   "cell_type": "code",
   "execution_count": 25,
   "id": "60a064b8-6c94-4604-9e83-8e648e507525",
   "metadata": {},
   "outputs": [
    {
     "name": "stdout",
     "output_type": "stream",
     "text": [
      "0\n",
      "1\n",
      "2\n",
      "3\n",
      "4\n"
     ]
    }
   ],
   "source": [
    "for idx in range(len(list_buah)):\n",
    "    print(idx)"
   ]
  },
  {
   "cell_type": "code",
   "execution_count": 26,
   "id": "942ef21e-eb7b-4b48-979f-d7ff9aaae4b9",
   "metadata": {},
   "outputs": [
    {
     "name": "stdout",
     "output_type": "stream",
     "text": [
      "apel\n",
      "anggur\n",
      "belimbing\n",
      "ceri\n"
     ]
    }
   ],
   "source": [
    "print(list_buah[0])\n",
    "print(list_buah[1])\n",
    "print(list_buah[2])\n",
    "print(list_buah[3])"
   ]
  },
  {
   "cell_type": "code",
   "execution_count": 27,
   "id": "23b6b7cb-3cf0-4397-83bf-bd4eb766c999",
   "metadata": {},
   "outputs": [
    {
     "name": "stdout",
     "output_type": "stream",
     "text": [
      "0 apel\n",
      "1 anggur\n",
      "2 belimbing\n",
      "3 ceri\n",
      "4 duren\n"
     ]
    }
   ],
   "source": [
    "for idx in range(len(list_buah)):\n",
    "    print(idx, list_buah[idx])"
   ]
  },
  {
   "cell_type": "code",
   "execution_count": 29,
   "id": "bc3a3344-d2d9-4ceb-9e34-4a291e6794bb",
   "metadata": {},
   "outputs": [
    {
     "name": "stdout",
     "output_type": "stream",
     "text": [
      "0\n",
      "1\n",
      "2\n",
      "3\n",
      "index ke-3 BUKAN belimbing\n",
      "4\n"
     ]
    }
   ],
   "source": [
    "for idx in range(len(list_buah)):\n",
    "    print(idx)\n",
    "    if idx == 3:\n",
    "        if list_buah[3] == 'belimbing':\n",
    "            print('index ke-3 adalah belimbing!')\n",
    "        else:\n",
    "            print('index ke-3 BUKAN belimbing')"
   ]
  },
  {
   "cell_type": "code",
   "execution_count": 30,
   "id": "16cbece5-67df-41a0-8585-14675d0e8cf0",
   "metadata": {},
   "outputs": [
    {
     "name": "stdout",
     "output_type": "stream",
     "text": [
      "index ke-3 BUKAN belimbing\n"
     ]
    }
   ],
   "source": [
    "for idx, value in enumerate(list_buah):\n",
    "    if idx == 3:\n",
    "        if value == 'belimbing':\n",
    "            print('index ke-3 adalah belimbing!')\n",
    "        else:\n",
    "            print('index ke-3 BUKAN belimbing')"
   ]
  },
  {
   "cell_type": "code",
   "execution_count": 31,
   "id": "390d0389-f5db-48fc-9e31-cda01369998c",
   "metadata": {},
   "outputs": [
    {
     "name": "stdout",
     "output_type": "stream",
     "text": [
      "5 apel\n",
      "6 anggur\n",
      "7 belimbing\n",
      "8 ceri\n",
      "9 duren\n"
     ]
    }
   ],
   "source": [
    "for idx, value in enumerate(list_buah, start=5):\n",
    "    print(idx, value)"
   ]
  },
  {
   "cell_type": "code",
   "execution_count": 32,
   "id": "056d9809-a3e3-4cf6-81fa-425193834d01",
   "metadata": {},
   "outputs": [
    {
     "name": "stdout",
     "output_type": "stream",
     "text": [
      "0\n",
      "1\n",
      "2\n",
      "3\n",
      "4\n",
      "5\n"
     ]
    }
   ],
   "source": [
    "a = 0\n",
    "b = 5\n",
    "\n",
    "while a <= b:\n",
    "    print(a)\n",
    "    a = a + 1"
   ]
  },
  {
   "cell_type": "code",
   "execution_count": 33,
   "id": "bce4127e-7fdc-431d-aaca-7243a5015135",
   "metadata": {},
   "outputs": [
    {
     "name": "stdout",
     "output_type": "stream",
     "text": [
      "0\n",
      "1\n",
      "2\n",
      "3\n",
      "4\n",
      "5\n",
      "a skrg sudah lebih dari b\n"
     ]
    }
   ],
   "source": [
    "a = 0\n",
    "b = 5\n",
    "\n",
    "while a <= b:\n",
    "    print(a)\n",
    "    a = a + 1\n",
    "else:\n",
    "    print('a skrg sudah lebih dari b')"
   ]
  },
  {
   "cell_type": "code",
   "execution_count": 34,
   "id": "e7a746b3-9ae1-470f-abeb-014c82ae96c9",
   "metadata": {},
   "outputs": [
    {
     "name": "stdout",
     "output_type": "stream",
     "text": [
      "True\n",
      "True\n",
      "True\n"
     ]
    }
   ],
   "source": [
    "is_found = True\n",
    "idx = 0\n",
    "\n",
    "while is_found is True:\n",
    "    print(is_found)\n",
    "    idx += 1\n",
    "    \n",
    "    if idx == 3:\n",
    "        is_found = False"
   ]
  },
  {
   "cell_type": "code",
   "execution_count": 37,
   "id": "448b3665-2f13-4a80-b48d-9afbb4c33279",
   "metadata": {},
   "outputs": [
    {
     "name": "stdin",
     "output_type": "stream",
     "text": [
      "Masukkan namamu :  Edi\n",
      "Masukkan tahun kelahiran :  2000\n"
     ]
    },
    {
     "name": "stdout",
     "output_type": "stream",
     "text": [
      "Namaku Edi\n",
      "Umurku 22\n"
     ]
    }
   ],
   "source": [
    "namaku = \"\"\n",
    "# Selalu jadi string\n",
    "while namaku == \"\":\n",
    "    namaku = input(\"Masukkan namamu : \")\n",
    "tahun_kelahiran = int(input(\"Masukkan tahun kelahiran : \"))\n",
    "tahun_sekarang = 2022\n",
    "\n",
    "print(\"Namaku\", namaku)\n",
    "print(\"Umurku\", tahun_sekarang - tahun_kelahiran)"
   ]
  },
  {
   "cell_type": "code",
   "execution_count": 38,
   "id": "386f9bd2-436f-4313-bae7-e810e4ccd4c9",
   "metadata": {},
   "outputs": [
    {
     "name": "stdout",
     "output_type": "stream",
     "text": [
      "index = 0\n",
      "index = 1\n",
      "index = 2\n",
      "index = 3\n",
      "index = 4\n"
     ]
    }
   ],
   "source": [
    "for idx in range(5):\n",
    "    if idx == 3:\n",
    "        pass\n",
    "    print(f'index = {idx}')"
   ]
  },
  {
   "cell_type": "code",
   "execution_count": 39,
   "id": "00130199-56ae-4f31-b0ec-9412b58cec88",
   "metadata": {},
   "outputs": [
    {
     "name": "stdout",
     "output_type": "stream",
     "text": [
      "index = 0\n",
      "index = 1\n",
      "index = 2\n"
     ]
    }
   ],
   "source": [
    "for idx in range(len(list_buah)):\n",
    "    if idx == 3:\n",
    "        break\n",
    "    print(f'index = {idx}')"
   ]
  },
  {
   "cell_type": "code",
   "execution_count": 40,
   "id": "3199b74d-1feb-4e16-9eff-d3cb17d2182a",
   "metadata": {},
   "outputs": [
    {
     "name": "stdout",
     "output_type": "stream",
     "text": [
      "a: 0\n",
      "a: 1\n",
      "a: 2\n"
     ]
    }
   ],
   "source": [
    "a = 0\n",
    "b = 5\n",
    "\n",
    "while a <= b:\n",
    "    print(f'a: {a}')\n",
    "    a = a + 1\n",
    "    \n",
    "    if a == 3:\n",
    "        break"
   ]
  },
  {
   "cell_type": "code",
   "execution_count": 41,
   "id": "873817a6-9cdd-407e-a26c-949904008f39",
   "metadata": {},
   "outputs": [
    {
     "name": "stdout",
     "output_type": "stream",
     "text": [
      "True\n",
      "True\n",
      "True\n"
     ]
    }
   ],
   "source": [
    "idx = 0\n",
    "\n",
    "while True:\n",
    "    print(True)\n",
    "    idx += 1\n",
    "    \n",
    "    if idx == 3:\n",
    "        break"
   ]
  },
  {
   "cell_type": "code",
   "execution_count": 42,
   "id": "7f6746c9-ae4b-4769-86dc-0c2970a6fe90",
   "metadata": {},
   "outputs": [
    {
     "name": "stdout",
     "output_type": "stream",
     "text": [
      "index = 0\n",
      "index = 1\n",
      "index = 2\n",
      "index = 4\n"
     ]
    }
   ],
   "source": [
    "for idx in range(5):\n",
    "    if idx == 3:\n",
    "        continue\n",
    "    print(f'index = {idx}')"
   ]
  },
  {
   "cell_type": "code",
   "execution_count": 43,
   "id": "b5a26f1a-be3a-43fa-897f-8443a28565d3",
   "metadata": {},
   "outputs": [],
   "source": [
    "list_of_dicts = [\n",
    "    {'nama': 'agi', 'umur': 20},\n",
    "    {'nama': 'budi', 'umur': 30},\n",
    "    {'nama': 'anton', 'umur': 40}\n",
    "]"
   ]
  },
  {
   "cell_type": "code",
   "execution_count": 44,
   "id": "d7ed3bb4-2d17-49aa-8586-344b9921dc40",
   "metadata": {},
   "outputs": [
    {
     "name": "stdout",
     "output_type": "stream",
     "text": [
      "{'nama': 'agi', 'umur': 20}\n",
      "{'nama': 'budi', 'umur': 30}\n",
      "{'nama': 'anton', 'umur': 40}\n"
     ]
    }
   ],
   "source": [
    "for list_of_dict in list_of_dicts:\n",
    "    print(list_of_dict)"
   ]
  },
  {
   "cell_type": "code",
   "execution_count": 45,
   "id": "dfae8f90-acf4-4b03-81bd-1a0f8266b91c",
   "metadata": {},
   "outputs": [
    {
     "name": "stdout",
     "output_type": "stream",
     "text": [
      "0 20\n",
      "1 30\n",
      "2 40\n"
     ]
    }
   ],
   "source": [
    "for idx, val in enumerate(list_of_dicts):\n",
    "    print(idx, val['umur'])"
   ]
  },
  {
   "cell_type": "code",
   "execution_count": 46,
   "id": "62184264-5b72-4955-86fe-1ca154b857f3",
   "metadata": {},
   "outputs": [
    {
     "name": "stdout",
     "output_type": "stream",
     "text": [
      "('nama', 'agi')\n",
      "('umur', 20)\n",
      "('nama', 'budi')\n",
      "('umur', 30)\n",
      "('nama', 'anton')\n",
      "('umur', 40)\n"
     ]
    }
   ],
   "source": [
    "for list_of_dict in list_of_dicts:\n",
    "    for value in list_of_dict.items():\n",
    "        print(value)"
   ]
  },
  {
   "cell_type": "code",
   "execution_count": 47,
   "id": "0cfc4842-33a1-4bbd-b2aa-486bc8ed1491",
   "metadata": {},
   "outputs": [],
   "source": [
    "dict_user = {'nama': 'agi', 'umur': 20, 'sudah_menikah': False, 'alamat': 'jl. selatan no 99'}"
   ]
  },
  {
   "cell_type": "code",
   "execution_count": 48,
   "id": "dc057114-96e7-4877-b0f3-d268e71eb000",
   "metadata": {},
   "outputs": [
    {
     "name": "stdout",
     "output_type": "stream",
     "text": [
      "('nama', 'agi')\n",
      "('umur', 20)\n",
      "('sudah_menikah', False)\n",
      "('alamat', 'jl. selatan no 99')\n"
     ]
    }
   ],
   "source": [
    "for value in dict_user.items():\n",
    "    print(value)"
   ]
  },
  {
   "cell_type": "code",
   "execution_count": null,
   "id": "a7aebdd4-6867-4ecf-bb12-894ea1a26ce7",
   "metadata": {},
   "outputs": [],
   "source": []
  }
 ],
 "metadata": {
  "kernelspec": {
   "display_name": "Python 3 (ipykernel)",
   "language": "python",
   "name": "python3"
  },
  "language_info": {
   "codemirror_mode": {
    "name": "ipython",
    "version": 3
   },
   "file_extension": ".py",
   "mimetype": "text/x-python",
   "name": "python",
   "nbconvert_exporter": "python",
   "pygments_lexer": "ipython3",
   "version": "3.9.16"
  }
 },
 "nbformat": 4,
 "nbformat_minor": 5
}
