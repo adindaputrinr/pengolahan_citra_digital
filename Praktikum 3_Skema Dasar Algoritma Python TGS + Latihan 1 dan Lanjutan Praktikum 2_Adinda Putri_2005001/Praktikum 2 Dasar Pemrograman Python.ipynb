{
 "cells": [
  {
   "cell_type": "code",
   "execution_count": 2,
   "id": "ee896f12-f468-4711-a295-fdd6b5891897",
   "metadata": {},
   "outputs": [
    {
     "name": "stdout",
     "output_type": "stream",
     "text": [
      "Adi\n"
     ]
    }
   ],
   "source": [
    "user_1 = 'Adi'\n",
    "print(user_1)"
   ]
  },
  {
   "cell_type": "code",
   "execution_count": 3,
   "id": "a2cb1069-9346-47eb-b5a0-9cedd24cdbdb",
   "metadata": {},
   "outputs": [
    {
     "name": "stdout",
     "output_type": "stream",
     "text": [
      "Indramayu Indramayu Indramayu\n"
     ]
    }
   ],
   "source": [
    "lokasi_1 = lokasi_2 = lokasi_3 = 'Indramayu'\n",
    "print(lokasi_1, lokasi_2, lokasi_3)"
   ]
  },
  {
   "cell_type": "code",
   "execution_count": 4,
   "id": "01d167b4-9417-4f87-926f-a4a1f7239e6e",
   "metadata": {},
   "outputs": [
    {
     "name": "stdout",
     "output_type": "stream",
     "text": [
      "Pengolahan Citra Digital\n"
     ]
    }
   ],
   "source": [
    "user_1, user_2, user_3 = 'Pengolahan', 'Citra', 'Digital'\n",
    "print(user_1, user_2, user_3)"
   ]
  },
  {
   "cell_type": "code",
   "execution_count": 5,
   "id": "d0d56766-2793-4d82-9b3b-b8e6c5e3d00c",
   "metadata": {},
   "outputs": [],
   "source": [
    "namaku = \"Ade\"\n",
    "umurku = 17\n",
    "\n",
    "tahunKelahiran = 2006\n",
    "tahunSekarang = 2023"
   ]
  },
  {
   "cell_type": "code",
   "execution_count": 6,
   "id": "36e4258c-ea6b-450d-af05-9b25524b3783",
   "metadata": {
    "collapsed": true,
    "jupyter": {
     "outputs_hidden": true
    },
    "tags": []
   },
   "outputs": [
    {
     "name": "stdout",
     "output_type": "stream",
     "text": [
      "Halo, namaku Ade\n"
     ]
    },
    {
     "ename": "TypeError",
     "evalue": "can only concatenate str (not \"int\") to str",
     "output_type": "error",
     "traceback": [
      "\u001b[1;31m---------------------------------------------------------------------------\u001b[0m",
      "\u001b[1;31mTypeError\u001b[0m                                 Traceback (most recent call last)",
      "\u001b[1;32m~\\AppData\\Local\\Temp\\ipykernel_4988\\1097190376.py\u001b[0m in \u001b[0;36m<module>\u001b[1;34m\u001b[0m\n\u001b[0;32m      1\u001b[0m \u001b[0mprint\u001b[0m\u001b[1;33m(\u001b[0m\u001b[1;34m\"Halo, namaku \"\u001b[0m \u001b[1;33m+\u001b[0m \u001b[0mnamaku\u001b[0m\u001b[1;33m)\u001b[0m\u001b[1;33m\u001b[0m\u001b[1;33m\u001b[0m\u001b[0m\n\u001b[1;32m----> 2\u001b[1;33m \u001b[0mprint\u001b[0m\u001b[1;33m(\u001b[0m\u001b[1;34m\"Umurku \"\u001b[0m \u001b[1;33m+\u001b[0m \u001b[0mumurku\u001b[0m\u001b[1;33m)\u001b[0m\u001b[1;33m\u001b[0m\u001b[1;33m\u001b[0m\u001b[0m\n\u001b[0m",
      "\u001b[1;31mTypeError\u001b[0m: can only concatenate str (not \"int\") to str"
     ]
    }
   ],
   "source": [
    "print(\"Halo, namaku \" + namaku)\n",
    "print(\"Umurku \" + umurku)"
   ]
  },
  {
   "cell_type": "code",
   "execution_count": 7,
   "id": "d9c16f46-ecc4-4193-a4ac-f2691adff66c",
   "metadata": {},
   "outputs": [
    {
     "name": "stdout",
     "output_type": "stream",
     "text": [
      "Halo, namaku Ade\n",
      "Umurku 17\n"
     ]
    }
   ],
   "source": [
    "print(\"Halo, namaku\", namaku)\n",
    "print(\"Umurku\", umurku)"
   ]
  },
  {
   "cell_type": "code",
   "execution_count": 8,
   "id": "5c949d9a-4fba-4877-b718-9628b6ada901",
   "metadata": {},
   "outputs": [
    {
     "name": "stdout",
     "output_type": "stream",
     "text": [
      "Halo, namaku Ade.\n",
      "Umurku 17. \n",
      "Ade umur 17\n"
     ]
    }
   ],
   "source": [
    "# %-Formatting\n",
    "print(\"Halo, namaku %s.\\nUmurku %s. \\n%s umur %s\" % (namaku, umurku, namaku, umurku))"
   ]
  },
  {
   "cell_type": "code",
   "execution_count": 9,
   "id": "90d7d3f3-9314-44cf-8caa-ddc315ddee74",
   "metadata": {},
   "outputs": [
    {
     "name": "stdout",
     "output_type": "stream",
     "text": [
      "Halo, namaku Ade.\n",
      "Umurku 17.\n",
      "Ade umur 17\n"
     ]
    }
   ],
   "source": [
    "# str.format()\n",
    "# 0 itu pertama, 1 itu kedua\n",
    "print(\"Halo, namaku {nama}.\\nUmurku {umur}.\\n{nama} umur {umur}\".format(nama = namaku, umur = umurku))"
   ]
  },
  {
   "cell_type": "code",
   "execution_count": 10,
   "id": "5070f688-dd4b-4611-8be0-383d348e3686",
   "metadata": {},
   "outputs": [
    {
     "name": "stdout",
     "output_type": "stream",
     "text": [
      "Halo, namaku Ade.\n",
      "Umurku 17.\n",
      "Ade umur 17\n",
      "Halo, namaku Ade.\n",
      "Umurku 17.\n",
      "Ade umur17\n",
      "{17}\n"
     ]
    }
   ],
   "source": [
    "# f-String\n",
    "print(f\"Halo, namaku {namaku}.\\nUmurku {umurku}.\\n{namaku} umur {umurku}\")\n",
    "print(f\"Halo, namaku {namaku}.\\nUmurku {umurku}.\\n{namaku} umur{tahunSekarang - tahunKelahiran}\")\n",
    "print(f\"{{{tahunSekarang - tahunKelahiran}}}\")"
   ]
  },
  {
   "cell_type": "code",
   "execution_count": 11,
   "id": "396601f8-80bd-4975-921e-a57a526d3d5b",
   "metadata": {},
   "outputs": [
    {
     "name": "stdout",
     "output_type": "stream",
     "text": [
      "Pengolahan Citra\n"
     ]
    }
   ],
   "source": [
    "nama = 'Pengolahan Citra'\n",
    "\n",
    "print(nama)"
   ]
  },
  {
   "cell_type": "code",
   "execution_count": 12,
   "id": "708b7fb4-6da7-4779-a6fd-0636bfd108e7",
   "metadata": {},
   "outputs": [
    {
     "name": "stdout",
     "output_type": "stream",
     "text": [
      "Pengolahan Citra Digital \n"
     ]
    }
   ],
   "source": [
    "tambah_nama_akhir = nama + ' Digital '\n",
    "print(tambah_nama_akhir)"
   ]
  },
  {
   "cell_type": "code",
   "execution_count": 13,
   "id": "0060a3b2-2385-40d3-98c9-3f397d74a0a3",
   "metadata": {},
   "outputs": [
    {
     "name": "stdout",
     "output_type": "stream",
     "text": [
      "Matakuliah Pengolahan Citra\n"
     ]
    }
   ],
   "source": [
    "tambah_nama_awal = 'Matakuliah ' + nama\n",
    "print(tambah_nama_awal)"
   ]
  },
  {
   "cell_type": "code",
   "execution_count": 14,
   "id": "19f4f6da-fa06-4528-826c-acb9b275c3ab",
   "metadata": {},
   "outputs": [
    {
     "name": "stdout",
     "output_type": "stream",
     "text": [
      "Pengolahan Citra Digital\n"
     ]
    }
   ],
   "source": [
    "nama_lengkap = 'Pengolahan Citra Digital'\n",
    "\n",
    "print(nama_lengkap)"
   ]
  },
  {
   "cell_type": "code",
   "execution_count": 15,
   "id": "cad17326-df6f-42a1-b17a-04ff494e8a03",
   "metadata": {},
   "outputs": [
    {
     "name": "stdout",
     "output_type": "stream",
     "text": [
      "P\n",
      "e\n",
      "n\n",
      "g\n"
     ]
    }
   ],
   "source": [
    "print(nama_lengkap[0])\n",
    "print(nama_lengkap[1])\n",
    "print(nama_lengkap[2])\n",
    "print(nama_lengkap[3])"
   ]
  },
  {
   "cell_type": "code",
   "execution_count": 16,
   "id": "f6efee9c-e4f8-4b3d-84ba-ace618b1d049",
   "metadata": {},
   "outputs": [
    {
     "name": "stdout",
     "output_type": "stream",
     "text": [
      "Pengola\n",
      "an Citra\n",
      "Digital\n"
     ]
    }
   ],
   "source": [
    "print(nama_lengkap[:7])\n",
    "print(nama_lengkap[8:16])\n",
    "print(nama_lengkap[17:])"
   ]
  },
  {
   "cell_type": "code",
   "execution_count": 3,
   "id": "a7ea5afe-1a14-41db-8fc7-60731c06e085",
   "metadata": {},
   "outputs": [
    {
     "name": "stdout",
     "output_type": "stream",
     "text": [
      "<class 'int'>\n",
      "2\n",
      "3\n"
     ]
    }
   ],
   "source": [
    "jml_transaksi_1 = 2\n",
    "jml_transaksi_2 = 3\n",
    "\n",
    "print(type(jml_transaksi_1))\n",
    "print(jml_transaksi_1)\n",
    "print(jml_transaksi_2)"
   ]
  },
  {
   "cell_type": "code",
   "execution_count": 4,
   "id": "1fe25db8-de7f-442f-9db9-1c919ef53ed5",
   "metadata": {},
   "outputs": [
    {
     "name": "stdout",
     "output_type": "stream",
     "text": [
      "5\n",
      "-1\n",
      "6\n",
      "8\n"
     ]
    }
   ],
   "source": [
    "print(jml_transaksi_1 + jml_transaksi_2)\n",
    "print(jml_transaksi_1 - jml_transaksi_2)\n",
    "print(jml_transaksi_1 * jml_transaksi_2)\n",
    "print(jml_transaksi_1 ** jml_transaksi_2)"
   ]
  },
  {
   "cell_type": "code",
   "execution_count": 5,
   "id": "9acb8bd7-26c5-4c8c-90f6-7157d0fb4ff0",
   "metadata": {},
   "outputs": [
    {
     "name": "stdout",
     "output_type": "stream",
     "text": [
      "<class 'float'>\n",
      "2.5\n"
     ]
    }
   ],
   "source": [
    "rata2 = (jml_transaksi_1 + jml_transaksi_2) / 2\n",
    "print(type(rata2))\n",
    "print(rata2)"
   ]
  },
  {
   "cell_type": "code",
   "execution_count": 7,
   "id": "9900574a-2fa3-4737-b6c5-f7447d82b44e",
   "metadata": {},
   "outputs": [
    {
     "name": "stdout",
     "output_type": "stream",
     "text": [
      "1.5\n",
      "1\n"
     ]
    }
   ],
   "source": [
    "print(jml_transaksi_2 / jml_transaksi_1)\n",
    "print(jml_transaksi_2 // jml_transaksi_1)"
   ]
  },
  {
   "cell_type": "code",
   "execution_count": 8,
   "id": "dd433271-8e55-4a8a-a73c-3d15cf03c633",
   "metadata": {},
   "outputs": [
    {
     "name": "stdout",
     "output_type": "stream",
     "text": [
      "0\n",
      "0\n",
      "1\n",
      "0\n",
      "4\n",
      "3\n",
      "2\n"
     ]
    }
   ],
   "source": [
    "print(9 % 1)\n",
    "print(9 % 9)\n",
    "print (9 % 2)\n",
    "print (9 % 3)\n",
    "print (9 % 5)\n",
    "print (9 % 6)\n",
    "print (9 % 7)"
   ]
  },
  {
   "cell_type": "code",
   "execution_count": 9,
   "id": "b2cfdd6d-3948-4f7c-9b8b-8dc3275022fe",
   "metadata": {},
   "outputs": [
    {
     "name": "stdout",
     "output_type": "stream",
     "text": [
      "7.3631\n",
      "3.312\n"
     ]
    }
   ],
   "source": [
    "berat_1 = 7.3631\n",
    "berat_2 = 3.312\n",
    "\n",
    "print(berat_1)\n",
    "print(berat_2)"
   ]
  },
  {
   "cell_type": "code",
   "execution_count": 16,
   "id": "44802af5-c98c-4ea9-91a7-3acf195e4523",
   "metadata": {},
   "outputs": [
    {
     "name": "stdout",
     "output_type": "stream",
     "text": [
      "10.6751\n",
      "4.0511\n",
      "-4.0511\n",
      "4.0511\n"
     ]
    }
   ],
   "source": [
    "print(berat_1 + berat_2)\n",
    "print(berat_1 - berat_2)\n",
    "print(berat_2 - berat_1)\n",
    "print((berat_2 - berat_1) * -1)"
   ]
  },
  {
   "cell_type": "code",
   "execution_count": 17,
   "id": "464cf7bb-49fa-472d-b720-34ebd69df201",
   "metadata": {},
   "outputs": [
    {
     "name": "stdout",
     "output_type": "stream",
     "text": [
      "24.3865872\n",
      "2.223158212560387\n",
      "2.0\n"
     ]
    }
   ],
   "source": [
    "print(berat_1 * berat_2)\n",
    "print(berat_1 / berat_2)\n",
    "print(berat_1 // berat_2)"
   ]
  },
  {
   "cell_type": "code",
   "execution_count": 18,
   "id": "295046f8-6f6c-4383-bc64-1f7562cfb094",
   "metadata": {},
   "outputs": [
    {
     "name": "stdout",
     "output_type": "stream",
     "text": [
      "0.7391000000000005\n"
     ]
    }
   ],
   "source": [
    "print(berat_1 % berat_2)"
   ]
  },
  {
   "cell_type": "code",
   "execution_count": 19,
   "id": "778a263d-19a9-4cec-bcb0-8fe65b8b24f7",
   "metadata": {},
   "outputs": [
    {
     "name": "stdout",
     "output_type": "stream",
     "text": [
      "5.311999999999999\n",
      "1.3119999999999998\n"
     ]
    }
   ],
   "source": [
    "print(jml_transaksi_1 + berat_2)\n",
    "print(berat_2 - jml_transaksi_1)"
   ]
  },
  {
   "cell_type": "code",
   "execution_count": 21,
   "id": "004e692a-1b8c-4bfc-b9d9-1a567fd9c461",
   "metadata": {},
   "outputs": [
    {
     "name": "stdout",
     "output_type": "stream",
     "text": [
      "<class 'bool'>\n",
      "True\n",
      "False\n"
     ]
    }
   ],
   "source": [
    "is_married = True\n",
    "is_arrived = False\n",
    "\n",
    "print(type(is_married))\n",
    "print(is_married)\n",
    "print(is_arrived)"
   ]
  },
  {
   "cell_type": "code",
   "execution_count": 22,
   "id": "82a063fa-8a00-4456-b25e-a0086a4cbbfd",
   "metadata": {},
   "outputs": [
    {
     "name": "stdout",
     "output_type": "stream",
     "text": [
      "<class 'list'>\n",
      "['apel', True, 'pisang', 92, -0.2551, ['a', 'b', 'c']]\n"
     ]
    }
   ],
   "source": [
    "mix_data_types = ['apel', True, 'pisang', 92, -0.2551, ['a', 'b', 'c']]\n",
    "\n",
    "print(type(mix_data_types))\n",
    "print(mix_data_types)"
   ]
  },
  {
   "cell_type": "code",
   "execution_count": 23,
   "id": "7b3ec307-53a2-49cf-9e73-bfc8d10b9f65",
   "metadata": {},
   "outputs": [
    {
     "name": "stdout",
     "output_type": "stream",
     "text": [
      "['apel', 'belimbing', 'ceri', 'duren']\n"
     ]
    }
   ],
   "source": [
    "buah = ['apel', 'belimbing', 'ceri', 'duren']\n",
    "\n",
    "print(buah)"
   ]
  },
  {
   "cell_type": "code",
   "execution_count": 24,
   "id": "9e0d912e-9c71-4dc6-b80f-1fd6269e491d",
   "metadata": {},
   "outputs": [
    {
     "name": "stdout",
     "output_type": "stream",
     "text": [
      "['apel', True, 'pisang', 92, -0.2551, ['a', 'b', 'c'], 'apel', 'belimbing', 'ceri', 'duren']\n"
     ]
    }
   ],
   "source": [
    "concat_lists = mix_data_types + buah\n",
    "\n",
    "print(concat_lists)"
   ]
  },
  {
   "cell_type": "code",
   "execution_count": 25,
   "id": "5062fa0b-b275-4a5a-8aa5-5ea8dfcd8615",
   "metadata": {},
   "outputs": [
    {
     "name": "stdout",
     "output_type": "stream",
     "text": [
      "['apel', 'belimbing', 'ceri', 'duren']\n",
      "['apel', 'belimbing', 'ceri', 'duren']\n",
      "['duren', 'ceri', 'belimbing', 'apel']\n"
     ]
    }
   ],
   "source": [
    "# print(sorted(mix_data_types))\n",
    "print(sorted(buah))\n",
    "print(sorted(buah, reverse=False))\n",
    "print(sorted(buah, reverse=True))"
   ]
  },
  {
   "cell_type": "code",
   "execution_count": 26,
   "id": "a6d2cd9a-88b6-4416-893f-e5bbe5b27558",
   "metadata": {},
   "outputs": [
    {
     "name": "stdout",
     "output_type": "stream",
     "text": [
      "duren\n",
      "apel\n"
     ]
    }
   ],
   "source": [
    "print(max(buah))\n",
    "print(min(buah))"
   ]
  },
  {
   "cell_type": "code",
   "execution_count": 27,
   "id": "419cee58-65a0-4740-8726-134cca17f323",
   "metadata": {},
   "outputs": [
    {
     "name": "stdout",
     "output_type": "stream",
     "text": [
      "['apel', 'belimbing', 'ceri', 'duren']\n"
     ]
    }
   ],
   "source": [
    "buah = ['apel', 'belimbing', 'ceri', 'duren']\n",
    "\n",
    "print(buah)"
   ]
  },
  {
   "cell_type": "code",
   "execution_count": 29,
   "id": "265a0643-3ae5-4eb0-b79c-f6002f6972ab",
   "metadata": {},
   "outputs": [
    {
     "name": "stdout",
     "output_type": "stream",
     "text": [
      "['apel', 'belimbing', 'ceri', 'duren', 'jeruk']\n"
     ]
    }
   ],
   "source": [
    "buah.append('jeruk')\n",
    "\n",
    "print(buah)"
   ]
  },
  {
   "cell_type": "code",
   "execution_count": 30,
   "id": "06382792-6c45-4be8-a56d-7b995a5dfb61",
   "metadata": {},
   "outputs": [
    {
     "name": "stdout",
     "output_type": "stream",
     "text": [
      "['apel', 'belimbing', 'cermai', 'ceri', 'duren', 'jeruk']\n"
     ]
    }
   ],
   "source": [
    "buah.insert(2, 'cermai')\n",
    "\n",
    "print(buah)"
   ]
  },
  {
   "cell_type": "code",
   "execution_count": 31,
   "id": "63bc9914-5a07-4056-b573-3e10e74f4d89",
   "metadata": {},
   "outputs": [
    {
     "name": "stdout",
     "output_type": "stream",
     "text": [
      "['apel', 'belimbing', 'cermai', 'duren', 'jeruk']\n"
     ]
    }
   ],
   "source": [
    "buah.remove('ceri')\n",
    "\n",
    "print(buah)"
   ]
  },
  {
   "cell_type": "code",
   "execution_count": 32,
   "id": "eb8f58a3-0a0e-40a5-ae30-3a3a2c6f9622",
   "metadata": {},
   "outputs": [
    {
     "name": "stdout",
     "output_type": "stream",
     "text": [
      "['apel', 'belimbing', 'cermai', 'duren']\n"
     ]
    }
   ],
   "source": [
    "del buah[-1]\n",
    "\n",
    "print(buah)"
   ]
  },
  {
   "cell_type": "code",
   "execution_count": 34,
   "id": "78bb0d01-26b2-492c-aeba-817bb983bcd7",
   "metadata": {},
   "outputs": [
    {
     "name": "stdout",
     "output_type": "stream",
     "text": [
      "duren\n",
      "['apel', 'belimbing']\n"
     ]
    }
   ],
   "source": [
    "buah_index_ke_2 = buah.pop(2)\n",
    "\n",
    "print(buah_index_ke_2)\n",
    "print(buah)"
   ]
  },
  {
   "cell_type": "code",
   "execution_count": 35,
   "id": "1603e029-79a5-4ea6-b6f8-bcc3bc957f8d",
   "metadata": {},
   "outputs": [
    {
     "name": "stdout",
     "output_type": "stream",
     "text": [
      "['apel', True, 'pisang', 92, -0.2551, ['a', 'b', 'c']]\n"
     ]
    }
   ],
   "source": [
    "print(mix_data_types)"
   ]
  },
  {
   "cell_type": "code",
   "execution_count": 36,
   "id": "38befa32-0b01-40fb-9b2f-0384ff40f5d3",
   "metadata": {},
   "outputs": [
    {
     "name": "stdout",
     "output_type": "stream",
     "text": [
      "6\n"
     ]
    }
   ],
   "source": [
    "print(len(mix_data_types))"
   ]
  },
  {
   "cell_type": "code",
   "execution_count": 37,
   "id": "3ac423e9-ca93-438b-abd2-e90b5aadc13e",
   "metadata": {},
   "outputs": [
    {
     "name": "stdout",
     "output_type": "stream",
     "text": [
      "['apel', 'belimbing', 'ceri', 'duren']\n"
     ]
    }
   ],
   "source": [
    "buah = ['apel', 'belimbing', 'ceri', 'duren']\n",
    "\n",
    "print(buah)"
   ]
  },
  {
   "cell_type": "code",
   "execution_count": 38,
   "id": "684ef43c-3d8d-450e-b31c-b3f1d3b0a4fe",
   "metadata": {},
   "outputs": [
    {
     "name": "stdout",
     "output_type": "stream",
     "text": [
      "apel\n",
      "belimbing\n",
      "duren\n",
      "ceri\n"
     ]
    }
   ],
   "source": [
    "print(buah[0])\n",
    "print(buah[1])\n",
    "\n",
    "print(buah[-1])\n",
    "print(buah[-2])"
   ]
  },
  {
   "cell_type": "code",
   "execution_count": 39,
   "id": "ee3b3981-30de-493d-b575-ff2175eb5349",
   "metadata": {},
   "outputs": [
    {
     "name": "stdout",
     "output_type": "stream",
     "text": [
      "['apel', 'belimbing', 'ceri']\n",
      "['apel', 'belimbing', 'ceri']\n"
     ]
    }
   ],
   "source": [
    "print(buah[0:3])\n",
    "print(buah[:3])"
   ]
  },
  {
   "cell_type": "code",
   "execution_count": 40,
   "id": "8800747b-de96-45ee-926d-a2d3cf04a88f",
   "metadata": {},
   "outputs": [
    {
     "name": "stdout",
     "output_type": "stream",
     "text": [
      "['belimbing', 'ceri']\n",
      "['belimbing', 'ceri', 'duren']\n"
     ]
    }
   ],
   "source": [
    "print(buah[-3:-1])\n",
    "print(buah[-3:])"
   ]
  },
  {
   "cell_type": "code",
   "execution_count": 41,
   "id": "cfc7880e-7316-42f9-bba0-e5a05826f829",
   "metadata": {},
   "outputs": [
    {
     "name": "stdout",
     "output_type": "stream",
     "text": [
      "(1, 2, 3, 4, 5)\n"
     ]
    }
   ],
   "source": [
    "tuple_numbers = (1,2,3,4,5)\n",
    "\n",
    "print(tuple_numbers)"
   ]
  },
  {
   "cell_type": "code",
   "execution_count": 42,
   "id": "31ba939c-5420-4708-a0cb-738d6c8b1b64",
   "metadata": {},
   "outputs": [
    {
     "name": "stdout",
     "output_type": "stream",
     "text": [
      "('a', '1', 'merupakan adalah', 2, 6.431, 61.124, True, False)\n"
     ]
    }
   ],
   "source": [
    "mix_tuple = ('a', '1', 'merupakan adalah', 2, 6.431, 61.124, True, False)\n",
    "\n",
    "print(mix_tuple)"
   ]
  },
  {
   "cell_type": "code",
   "execution_count": 43,
   "id": "9fad2dd3-2e07-4c11-950d-aeb822b41c16",
   "metadata": {},
   "outputs": [
    {
     "name": "stdout",
     "output_type": "stream",
     "text": [
      "(1, 2, 3, 4, 5)\n"
     ]
    }
   ],
   "source": [
    "print(tuple_numbers)"
   ]
  },
  {
   "cell_type": "code",
   "execution_count": 44,
   "id": "b4c0d41e-9b28-496e-998d-ab2d7337e802",
   "metadata": {},
   "outputs": [
    {
     "name": "stdout",
     "output_type": "stream",
     "text": [
      "1\n"
     ]
    },
    {
     "ename": "TypeError",
     "evalue": "'tuple' object does not support item assignment",
     "output_type": "error",
     "traceback": [
      "\u001b[1;31m---------------------------------------------------------------------------\u001b[0m",
      "\u001b[1;31mTypeError\u001b[0m                                 Traceback (most recent call last)",
      "\u001b[1;32m~\\AppData\\Local\\Temp\\ipykernel_9896\\3375120904.py\u001b[0m in \u001b[0;36m<module>\u001b[1;34m\u001b[0m\n\u001b[0;32m      1\u001b[0m \u001b[0mprint\u001b[0m\u001b[1;33m(\u001b[0m\u001b[0mtuple_numbers\u001b[0m\u001b[1;33m[\u001b[0m\u001b[1;36m0\u001b[0m\u001b[1;33m]\u001b[0m\u001b[1;33m)\u001b[0m\u001b[1;33m\u001b[0m\u001b[1;33m\u001b[0m\u001b[0m\n\u001b[0;32m      2\u001b[0m \u001b[1;33m\u001b[0m\u001b[0m\n\u001b[1;32m----> 3\u001b[1;33m \u001b[0mtuple_numbers\u001b[0m\u001b[1;33m[\u001b[0m\u001b[1;36m0\u001b[0m\u001b[1;33m]\u001b[0m \u001b[1;33m=\u001b[0m \u001b[1;36m99\u001b[0m\u001b[1;33m\u001b[0m\u001b[1;33m\u001b[0m\u001b[0m\n\u001b[0m\u001b[0;32m      4\u001b[0m \u001b[0mprint\u001b[0m\u001b[1;33m(\u001b[0m\u001b[0mtuple_numbers\u001b[0m\u001b[1;33m)\u001b[0m\u001b[1;33m\u001b[0m\u001b[1;33m\u001b[0m\u001b[0m\n",
      "\u001b[1;31mTypeError\u001b[0m: 'tuple' object does not support item assignment"
     ]
    }
   ],
   "source": [
    "print(tuple_numbers[0])\n",
    "\n",
    "tuple_numbers[0] = 99\n",
    "print(tuple_numbers)"
   ]
  },
  {
   "cell_type": "code",
   "execution_count": 45,
   "id": "e3c64868-067e-4934-b777-39a4c81fbc0e",
   "metadata": {},
   "outputs": [
    {
     "ename": "TypeError",
     "evalue": "'tuple' object doesn't support item deletion",
     "output_type": "error",
     "traceback": [
      "\u001b[1;31m---------------------------------------------------------------------------\u001b[0m",
      "\u001b[1;31mTypeError\u001b[0m                                 Traceback (most recent call last)",
      "\u001b[1;32m~\\AppData\\Local\\Temp\\ipykernel_9896\\3637645044.py\u001b[0m in \u001b[0;36m<module>\u001b[1;34m\u001b[0m\n\u001b[1;32m----> 1\u001b[1;33m \u001b[1;32mdel\u001b[0m \u001b[0mtuple_numbers\u001b[0m\u001b[1;33m[\u001b[0m\u001b[1;36m0\u001b[0m\u001b[1;33m]\u001b[0m\u001b[1;33m\u001b[0m\u001b[1;33m\u001b[0m\u001b[0m\n\u001b[0m",
      "\u001b[1;31mTypeError\u001b[0m: 'tuple' object doesn't support item deletion"
     ]
    }
   ],
   "source": [
    "del tuple_numbers[0]"
   ]
  },
  {
   "cell_type": "code",
   "execution_count": 46,
   "id": "20da039a-dcd1-454f-b85b-6fb704ab5789",
   "metadata": {},
   "outputs": [
    {
     "name": "stdout",
     "output_type": "stream",
     "text": [
      "(1, 2, 3, 4, 5)\n",
      "(1, 2, 3, 4, 5, 6, 7, 8)\n"
     ]
    }
   ],
   "source": [
    "print(tuple_numbers)\n",
    "\n",
    "tuple_new_numbers = tuple_numbers + (6,7,8)\n",
    "\n",
    "print(tuple_new_numbers)"
   ]
  },
  {
   "cell_type": "code",
   "execution_count": 47,
   "id": "37f0068a-4a1c-4c32-9155-19f6276b37cf",
   "metadata": {},
   "outputs": [
    {
     "name": "stdout",
     "output_type": "stream",
     "text": [
      "(1, 2, 3, 4, 5)\n"
     ]
    },
    {
     "ename": "NameError",
     "evalue": "name 'tuple_numbers' is not defined",
     "output_type": "error",
     "traceback": [
      "\u001b[1;31m---------------------------------------------------------------------------\u001b[0m",
      "\u001b[1;31mNameError\u001b[0m                                 Traceback (most recent call last)",
      "\u001b[1;32m~\\AppData\\Local\\Temp\\ipykernel_9896\\1695857640.py\u001b[0m in \u001b[0;36m<module>\u001b[1;34m\u001b[0m\n\u001b[0;32m      3\u001b[0m \u001b[1;32mdel\u001b[0m \u001b[0mtuple_numbers\u001b[0m\u001b[1;33m\u001b[0m\u001b[1;33m\u001b[0m\u001b[0m\n\u001b[0;32m      4\u001b[0m \u001b[1;33m\u001b[0m\u001b[0m\n\u001b[1;32m----> 5\u001b[1;33m \u001b[0mprint\u001b[0m\u001b[1;33m(\u001b[0m\u001b[0mtuple_numbers\u001b[0m\u001b[1;33m)\u001b[0m\u001b[1;33m\u001b[0m\u001b[1;33m\u001b[0m\u001b[0m\n\u001b[0m",
      "\u001b[1;31mNameError\u001b[0m: name 'tuple_numbers' is not defined"
     ]
    }
   ],
   "source": [
    "print(tuple_numbers)\n",
    "\n",
    "del tuple_numbers\n",
    "\n",
    "print(tuple_numbers)"
   ]
  },
  {
   "cell_type": "code",
   "execution_count": 48,
   "id": "589d94cc-68f7-4fab-95e6-81b24b51e8d3",
   "metadata": {},
   "outputs": [
    {
     "name": "stdout",
     "output_type": "stream",
     "text": [
      "(1, 2, 3, 4, 5)\n",
      "5\n"
     ]
    }
   ],
   "source": [
    "tuple_numbers = (1,2,3,4,5)\n",
    "\n",
    "print(tuple_numbers)\n",
    "print(len(tuple_numbers))"
   ]
  },
  {
   "cell_type": "code",
   "execution_count": 49,
   "id": "e0f11eb9-1f4f-49a3-903f-d11dbd15d9ed",
   "metadata": {},
   "outputs": [
    {
     "name": "stdout",
     "output_type": "stream",
     "text": [
      "('budi', 'andi', 'riri', 'joko')\n",
      "(33, 23, 26)\n"
     ]
    }
   ],
   "source": [
    "nama = ('budi', 'andi', 'riri', 'joko')\n",
    "umur = (33, 23, 26)\n",
    "\n",
    "# nama = ('budi', 'andi', 'riri', 'joko')\n",
    "# umur = (33, 23, 26)\n",
    "\n",
    "print(nama)\n",
    "print(umur)"
   ]
  },
  {
   "cell_type": "code",
   "execution_count": 50,
   "id": "9468d6ee-bd66-4526-9d7c-6385e46b0485",
   "metadata": {},
   "outputs": [
    {
     "name": "stdout",
     "output_type": "stream",
     "text": [
      "<zip object at 0x0000025456FE6840>\n",
      "[('budi', 33), ('andi', 23), ('riri', 26)]\n"
     ]
    }
   ],
   "source": [
    "zipped = zip(nama, umur)\n",
    "\n",
    "print(zipped)\n",
    "print(list(zipped))"
   ]
  },
  {
   "cell_type": "code",
   "execution_count": 51,
   "id": "ff458afb-926a-4567-90b2-5ca30f7556cd",
   "metadata": {},
   "outputs": [
    {
     "name": "stdout",
     "output_type": "stream",
     "text": [
      "1\n",
      "2\n",
      "5\n",
      "4\n"
     ]
    }
   ],
   "source": [
    "print(tuple_numbers[0])\n",
    "print(tuple_numbers[1])\n",
    "\n",
    "print(tuple_numbers[-1])\n",
    "print(tuple_numbers[-2])"
   ]
  },
  {
   "cell_type": "code",
   "execution_count": 52,
   "id": "6411e743-fb64-4cc3-a15c-e65a49522a36",
   "metadata": {},
   "outputs": [
    {
     "name": "stdout",
     "output_type": "stream",
     "text": [
      "(1, 2, 3)\n",
      "(1, 2, 3)\n"
     ]
    }
   ],
   "source": [
    "print(tuple_numbers[0:3])\n",
    "print(tuple_numbers[:3])"
   ]
  },
  {
   "cell_type": "code",
   "execution_count": 53,
   "id": "46dd2b81-2723-4c5f-8ec2-60e128b2ca30",
   "metadata": {},
   "outputs": [
    {
     "name": "stdout",
     "output_type": "stream",
     "text": [
      "(3, 4)\n",
      "(3, 4, 5)\n"
     ]
    }
   ],
   "source": [
    "print(tuple_numbers[-3:-1])\n",
    "print(tuple_numbers[-3:])"
   ]
  },
  {
   "cell_type": "code",
   "execution_count": 54,
   "id": "5a16f758-ee42-457a-9fe7-6d499bab20bd",
   "metadata": {},
   "outputs": [
    {
     "name": "stdout",
     "output_type": "stream",
     "text": [
      "{1, 2, 3, 4, 5}\n"
     ]
    }
   ],
   "source": [
    "set_numbers = {1,2,3,4,5}\n",
    "\n",
    "print(set_numbers)"
   ]
  },
  {
   "cell_type": "code",
   "execution_count": 55,
   "id": "abfed2aa-7763-4809-8b5a-7baabb46346d",
   "metadata": {},
   "outputs": [
    {
     "name": "stdout",
     "output_type": "stream",
     "text": [
      "{0.351, 1, 2, False, 8.134, 'ini budi'}\n"
     ]
    }
   ],
   "source": [
    "mixed_set = {1, 2, 0.351, 8.134, False, 'ini budi'}\n",
    "\n",
    "print(mixed_set)"
   ]
  },
  {
   "cell_type": "code",
   "execution_count": 56,
   "id": "983e0b71-9488-4ece-8f4d-c2332d7cb506",
   "metadata": {},
   "outputs": [
    {
     "name": "stdout",
     "output_type": "stream",
     "text": [
      "{1, 2, 3, 4, 5}\n"
     ]
    }
   ],
   "source": [
    "random_set_numbers = {4,5,5,1,2,3,3}\n",
    "\n",
    "print(random_set_numbers)"
   ]
  },
  {
   "cell_type": "code",
   "execution_count": 57,
   "id": "6d317b2d-6a47-45fe-b27b-bfd51e7c2a4a",
   "metadata": {},
   "outputs": [
    {
     "ename": "TypeError",
     "evalue": "'set' object is not subscriptable",
     "output_type": "error",
     "traceback": [
      "\u001b[1;31m---------------------------------------------------------------------------\u001b[0m",
      "\u001b[1;31mTypeError\u001b[0m                                 Traceback (most recent call last)",
      "\u001b[1;32m~\\AppData\\Local\\Temp\\ipykernel_9896\\127606744.py\u001b[0m in \u001b[0;36m<module>\u001b[1;34m\u001b[0m\n\u001b[1;32m----> 1\u001b[1;33m \u001b[0mprint\u001b[0m\u001b[1;33m(\u001b[0m\u001b[0mrandom_set_numbers\u001b[0m\u001b[1;33m[\u001b[0m\u001b[1;36m0\u001b[0m\u001b[1;33m]\u001b[0m\u001b[1;33m)\u001b[0m\u001b[1;33m\u001b[0m\u001b[1;33m\u001b[0m\u001b[0m\n\u001b[0m",
      "\u001b[1;31mTypeError\u001b[0m: 'set' object is not subscriptable"
     ]
    }
   ],
   "source": [
    "print(random_set_numbers[0])"
   ]
  },
  {
   "cell_type": "code",
   "execution_count": 58,
   "id": "03aad996-37f6-4c7d-99c9-4aef64030d0c",
   "metadata": {},
   "outputs": [
    {
     "name": "stdout",
     "output_type": "stream",
     "text": [
      "{1, 2, 3, 4, 5}\n"
     ]
    }
   ],
   "source": [
    "print(random_set_numbers)"
   ]
  },
  {
   "cell_type": "code",
   "execution_count": 59,
   "id": "549b34f2-0f41-456e-acf0-8059110a30d3",
   "metadata": {},
   "outputs": [
    {
     "name": "stdout",
     "output_type": "stream",
     "text": [
      "{1, 2, 3, 4, 5, 6}\n"
     ]
    }
   ],
   "source": [
    "random_set_numbers.add(6)\n",
    "\n",
    "print(random_set_numbers)"
   ]
  },
  {
   "cell_type": "code",
   "execution_count": 60,
   "id": "08456277-6011-4d3b-a25d-8589add9e076",
   "metadata": {},
   "outputs": [
    {
     "name": "stdout",
     "output_type": "stream",
     "text": [
      "{'nama': 'budi', 'umur': 25, 'sudah_menikah': False, 3: 'integer as key', True: 'boolean as key'}\n",
      "budi\n",
      "integer as key\n",
      "boolean as key\n"
     ]
    }
   ],
   "source": [
    "dict_user = {'nama': 'budi', 'umur': 25, 'sudah_menikah':False, 3: 'integer as key', True: 'boolean as key'}\n",
    "\n",
    "print(dict_user)\n",
    "\n",
    "print(dict_user['nama'])\n",
    "print(dict_user[3])\n",
    "print(dict_user[True])"
   ]
  },
  {
   "cell_type": "code",
   "execution_count": 61,
   "id": "4411949d-1e6c-48bd-86f5-bcb7bfff3a0c",
   "metadata": {},
   "outputs": [
    {
     "name": "stdout",
     "output_type": "stream",
     "text": [
      "dict_keys(['nama', 'umur', 'sudah_menikah', 3, True])\n"
     ]
    }
   ],
   "source": [
    "print(dict_user.keys())"
   ]
  },
  {
   "cell_type": "code",
   "execution_count": 63,
   "id": "6b400b1f-bac4-4ffc-8a6c-b935d3d8af41",
   "metadata": {},
   "outputs": [
    {
     "name": "stdout",
     "output_type": "stream",
     "text": [
      "dict_values(['budi', 25, False, 'integer as key', 'boolean as key'])\n"
     ]
    }
   ],
   "source": [
    "print(dict_user.values())"
   ]
  },
  {
   "cell_type": "code",
   "execution_count": 64,
   "id": "2d3873ed-5f2b-4931-8183-a99ad5f0cec7",
   "metadata": {},
   "outputs": [
    {
     "name": "stdout",
     "output_type": "stream",
     "text": [
      "dict_items([('nama', 'budi'), ('umur', 25), ('sudah_menikah', False), (3, 'integer as key'), (True, 'boolean as key')])\n"
     ]
    }
   ],
   "source": [
    "print(dict_user.items())"
   ]
  },
  {
   "cell_type": "code",
   "execution_count": 65,
   "id": "77afc783-828e-49cd-8330-1cc8bdfd1b3b",
   "metadata": {},
   "outputs": [
    {
     "name": "stdout",
     "output_type": "stream",
     "text": [
      "{'nama': 'budi', 'umur': 25, 'sudah_menikah': False, 3: 'integer as key', True: 'boolean as key'}\n"
     ]
    }
   ],
   "source": [
    "print(dict_user)"
   ]
  },
  {
   "cell_type": "code",
   "execution_count": 66,
   "id": "0272ca7a-52b6-498e-bfee-32a7aff2e9dd",
   "metadata": {},
   "outputs": [
    {
     "name": "stdout",
     "output_type": "stream",
     "text": [
      "{'nama': 'budi', 'umur': 25, 'sudah_menikah': False, 3: 'integer as key', True: 'boolean as key', 'alamat': 'jl lohbener lama no 8 indramayu'}\n"
     ]
    }
   ],
   "source": [
    "dict_user['alamat'] = 'jl lohbener lama no 8 indramayu'\n",
    "\n",
    "print(dict_user)"
   ]
  },
  {
   "cell_type": "code",
   "execution_count": 67,
   "id": "1016b9da-7ab4-4a76-929f-497d3a59a399",
   "metadata": {},
   "outputs": [
    {
     "name": "stdout",
     "output_type": "stream",
     "text": [
      "{'nama': 'budi', 'sudah_menikah': False, 3: 'integer as key', True: 'boolean as key', 'alamat': 'jl lohbener lama no 8 indramayu'}\n"
     ]
    }
   ],
   "source": [
    "del dict_user['umur']\n",
    "\n",
    "print(dict_user)"
   ]
  },
  {
   "cell_type": "code",
   "execution_count": null,
   "id": "48564a2c-3b98-40ba-8390-7b15ee1f9828",
   "metadata": {},
   "outputs": [],
   "source": []
  }
 ],
 "metadata": {
  "kernelspec": {
   "display_name": "Python 3 (ipykernel)",
   "language": "python",
   "name": "python3"
  },
  "language_info": {
   "codemirror_mode": {
    "name": "ipython",
    "version": 3
   },
   "file_extension": ".py",
   "mimetype": "text/x-python",
   "name": "python",
   "nbconvert_exporter": "python",
   "pygments_lexer": "ipython3",
   "version": "3.9.16"
  }
 },
 "nbformat": 4,
 "nbformat_minor": 5
}
